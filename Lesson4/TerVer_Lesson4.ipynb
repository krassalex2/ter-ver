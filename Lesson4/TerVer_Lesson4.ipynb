{
 "cells": [
  {
   "cell_type": "code",
   "execution_count": 1,
   "id": "f9287b93",
   "metadata": {},
   "outputs": [],
   "source": [
    "from math import sqrt\n",
    "import warnings\n",
    "warnings.filterwarnings('ignore')"
   ]
  },
  {
   "cell_type": "markdown",
   "id": "f49d1aaa",
   "metadata": {},
   "source": [
    "#### Задача 1"
   ]
  },
  {
   "cell_type": "markdown",
   "id": "3aeb6afa",
   "metadata": {},
   "source": [
    "Случайная непрерывная величина A имеет равномерное распределение на промежутке (200, 800].\n",
    "Найдите ее среднее значение и дисперсию."
   ]
  },
  {
   "cell_type": "code",
   "execution_count": 2,
   "id": "f47975aa",
   "metadata": {},
   "outputs": [],
   "source": [
    "a = 200\n",
    "b = 800"
   ]
  },
  {
   "cell_type": "markdown",
   "id": "95973ee3",
   "metadata": {},
   "source": [
    "Математическое ожидание равномерно распределеной случайной величины равно среднему арифметическому"
   ]
  },
  {
   "cell_type": "code",
   "execution_count": 3,
   "id": "5d6387e7",
   "metadata": {},
   "outputs": [
    {
     "data": {
      "text/plain": [
       "500.0"
      ]
     },
     "execution_count": 3,
     "metadata": {},
     "output_type": "execute_result"
    }
   ],
   "source": [
    "m = (a + b) / 2\n",
    "m"
   ]
  },
  {
   "cell_type": "markdown",
   "id": "9b7ef42c",
   "metadata": {},
   "source": [
    "Дисперсия"
   ]
  },
  {
   "cell_type": "code",
   "execution_count": 4,
   "id": "719faa3d",
   "metadata": {},
   "outputs": [
    {
     "data": {
      "text/plain": [
       "30000.0"
      ]
     },
     "execution_count": 4,
     "metadata": {},
     "output_type": "execute_result"
    }
   ],
   "source": [
    "v = (b - a)**2 / 12\n",
    "v"
   ]
  },
  {
   "cell_type": "markdown",
   "id": "d3065f8d",
   "metadata": {},
   "source": [
    "#### Задача 2"
   ]
  },
  {
   "cell_type": "markdown",
   "id": "c6b0598a",
   "metadata": {},
   "source": [
    "О случайной непрерывной равномерно распределенной величине B известно, что ее дисперсия равна 0.2.\n",
    "Можно ли найти правую границу величины B и ее среднее значение зная, что левая граница равна 0.5?\n",
    "Если да, найдите ее."
   ]
  },
  {
   "cell_type": "markdown",
   "id": "76e7f57a",
   "metadata": {},
   "source": [
    "Формулы математического ожидания и дисперсии для равномерного распределения<br>\n",
    "m = (a + b) / 2 <br>\n",
    "v = (b - a) ** 2 / 12"
   ]
  },
  {
   "cell_type": "markdown",
   "id": "5cffabe2",
   "metadata": {},
   "source": [
    "Известно"
   ]
  },
  {
   "cell_type": "code",
   "execution_count": 5,
   "id": "1fcdf365",
   "metadata": {},
   "outputs": [],
   "source": [
    "a = 0.5\n",
    "v = 0.2"
   ]
  },
  {
   "cell_type": "markdown",
   "id": "30dbac91",
   "metadata": {},
   "source": [
    "Подставим эти значения в формулу дисперсии и найдем b"
   ]
  },
  {
   "cell_type": "markdown",
   "id": "dec0c70f",
   "metadata": {},
   "source": [
    "0.2 = (b - 0.5) ** 2 / 12"
   ]
  },
  {
   "cell_type": "markdown",
   "id": "f43ff84d",
   "metadata": {},
   "source": [
    "2.4 = (b - 0.5) ** 2"
   ]
  },
  {
   "cell_type": "markdown",
   "id": "57608ce6",
   "metadata": {},
   "source": [
    "2.4 = b ** 2 - b + 0.25"
   ]
  },
  {
   "cell_type": "markdown",
   "id": "26a16c91",
   "metadata": {},
   "source": [
    "b ** 2 - b - 2.15 = 0"
   ]
  },
  {
   "cell_type": "code",
   "execution_count": 6,
   "id": "6e037d4e",
   "metadata": {},
   "outputs": [
    {
     "data": {
      "text/plain": [
       "9.6"
      ]
     },
     "execution_count": 6,
     "metadata": {},
     "output_type": "execute_result"
    }
   ],
   "source": [
    "D = 1 + 4*1*2.15\n",
    "D"
   ]
  },
  {
   "cell_type": "code",
   "execution_count": 7,
   "id": "fdceca48",
   "metadata": {},
   "outputs": [
    {
     "data": {
      "text/plain": [
       "3.0983866769659336"
      ]
     },
     "execution_count": 7,
     "metadata": {},
     "output_type": "execute_result"
    }
   ],
   "source": [
    "d = sqrt(D)\n",
    "d"
   ]
  },
  {
   "cell_type": "code",
   "execution_count": 8,
   "id": "9ad57ee6",
   "metadata": {},
   "outputs": [
    {
     "data": {
      "text/plain": [
       "-1.0491933384829668"
      ]
     },
     "execution_count": 8,
     "metadata": {},
     "output_type": "execute_result"
    }
   ],
   "source": [
    "b1 = (1 - d) / 2\n",
    "b1"
   ]
  },
  {
   "cell_type": "code",
   "execution_count": 9,
   "id": "28240c13",
   "metadata": {},
   "outputs": [
    {
     "data": {
      "text/plain": [
       "2.049193338482967"
      ]
     },
     "execution_count": 9,
     "metadata": {},
     "output_type": "execute_result"
    }
   ],
   "source": [
    "b2 = (1 + d) / 2\n",
    "b2"
   ]
  },
  {
   "cell_type": "markdown",
   "id": "5604215e",
   "metadata": {},
   "source": [
    "Значение b1 = -1.05 не подходит, так как правая граница не может быть меньше левой"
   ]
  },
  {
   "cell_type": "code",
   "execution_count": 10,
   "id": "473d8c5a",
   "metadata": {},
   "outputs": [
    {
     "data": {
      "text/plain": [
       "2.049193338482967"
      ]
     },
     "execution_count": 10,
     "metadata": {},
     "output_type": "execute_result"
    }
   ],
   "source": [
    "b = b2\n",
    "b"
   ]
  },
  {
   "cell_type": "markdown",
   "id": "cc480d79",
   "metadata": {},
   "source": [
    "Математическое ожидание"
   ]
  },
  {
   "cell_type": "code",
   "execution_count": 11,
   "id": "51099ec2",
   "metadata": {},
   "outputs": [
    {
     "data": {
      "text/plain": [
       "1.2745966692414834"
      ]
     },
     "execution_count": 11,
     "metadata": {},
     "output_type": "execute_result"
    }
   ],
   "source": [
    "m = (a + b) / 2\n",
    "m"
   ]
  },
  {
   "cell_type": "markdown",
   "id": "40a1b03a",
   "metadata": {},
   "source": [
    "#### Задача 3"
   ]
  },
  {
   "cell_type": "markdown",
   "id": "aa6a1f3c",
   "metadata": {},
   "source": [
    "Непрерывная случайная величина X распределена нормально и задана плотностью распределения\n",
    "f(x) = (1 / (4 * sqrt(2pi))) * exp((-(x+2)**2) / 32)\n",
    "Найдите:\n",
    "а). M(X)\n",
    "б). D(X)\n",
    "в). std(X) (среднее квадратичное отклонение)"
   ]
  },
  {
   "cell_type": "markdown",
   "id": "a32d34e7",
   "metadata": {},
   "source": [
    "Исходя из формулы плотности распределения имеем"
   ]
  },
  {
   "cell_type": "code",
   "execution_count": 12,
   "id": "a1d722e0",
   "metadata": {},
   "outputs": [],
   "source": [
    "std = 4 # среднее квадратическое отклонение\n",
    "variance = 16 # дисперсия\n",
    "m = -2 # математическое ожидание"
   ]
  },
  {
   "cell_type": "markdown",
   "id": "c2444fc5",
   "metadata": {},
   "source": [
    "#### Задача 4"
   ]
  },
  {
   "cell_type": "markdown",
   "id": "1b8a1966",
   "metadata": {},
   "source": [
    "Рост взрослого населения города X имеет нормальное распределение.<br>\n",
    "Причем, средний рост равен 174 см, а среднее квадратичное отклонение равно 8 см.<br>\n",
    "Какова вероятность того, что случайным образом выбранный взрослый человек имеет рост:<br>\n",
    "а). больше 182 см<br>\n",
    "б). больше 190 см<br>\n",
    "в). от 166 см до 190 см<br>\n",
    "г). от 166 см до 182 см<br>\n",
    "д). от 158 см до 190 см<br>\n",
    "е). не выше 150 см или не ниже 190 см<br>\n",
    "ё). не выше 150 см или не ниже 198 см<br>\n",
    "ж). ниже 166 см.<br>"
   ]
  },
  {
   "cell_type": "code",
   "execution_count": 13,
   "id": "206efc87",
   "metadata": {},
   "outputs": [],
   "source": [
    "m = 174 # Математическое ожидание"
   ]
  },
  {
   "cell_type": "code",
   "execution_count": 14,
   "id": "a202bbb8",
   "metadata": {},
   "outputs": [],
   "source": [
    "std = 8 # среднее квадратичное отклонение"
   ]
  },
  {
   "cell_type": "markdown",
   "id": "40b84015",
   "metadata": {},
   "source": [
    "Если привести распределение к нормальному, то можно заметить, что значения роста 182 = 1, 190 = 2, 198 = 3, 166 = -1, 158 = -2, 150 - 3 "
   ]
  },
  {
   "cell_type": "markdown",
   "id": "ba47b189",
   "metadata": {},
   "source": [
    "Воспользуемся значениями Z-таблицы для расчета вероятностей."
   ]
  },
  {
   "cell_type": "code",
   "execution_count": 15,
   "id": "028fc7a0",
   "metadata": {},
   "outputs": [],
   "source": [
    "from scipy.stats import norm"
   ]
  },
  {
   "cell_type": "markdown",
   "id": "f858c4ca",
   "metadata": {},
   "source": [
    "а). больше 182 см (то есть больше 1 сигма)"
   ]
  },
  {
   "cell_type": "code",
   "execution_count": 16,
   "id": "8582e403",
   "metadata": {},
   "outputs": [
    {
     "data": {
      "text/plain": [
       "0.15865525393145707"
      ]
     },
     "execution_count": 16,
     "metadata": {},
     "output_type": "execute_result"
    }
   ],
   "source": [
    "p1 = 1 - norm.cdf(1)\n",
    "p1"
   ]
  },
  {
   "cell_type": "markdown",
   "id": "62066ac7",
   "metadata": {},
   "source": [
    "б). больше 190 см (то есть больше 2 сигма)"
   ]
  },
  {
   "cell_type": "code",
   "execution_count": 17,
   "id": "781d987e",
   "metadata": {},
   "outputs": [
    {
     "data": {
      "text/plain": [
       "0.02275013194817921"
      ]
     },
     "execution_count": 17,
     "metadata": {},
     "output_type": "execute_result"
    }
   ],
   "source": [
    "p2 = 1 - norm.cdf(2)\n",
    "p2"
   ]
  },
  {
   "cell_type": "markdown",
   "id": "69b6ac89",
   "metadata": {},
   "source": [
    "в). от 166 см до 190 см (между -1 сигма и 2 сигма)"
   ]
  },
  {
   "cell_type": "code",
   "execution_count": 18,
   "id": "855c8f4a",
   "metadata": {},
   "outputs": [
    {
     "data": {
      "text/plain": [
       "0.8185946141203637"
      ]
     },
     "execution_count": 18,
     "metadata": {},
     "output_type": "execute_result"
    }
   ],
   "source": [
    "p3 = norm.cdf(2) - norm.cdf(-1)\n",
    "p3"
   ]
  },
  {
   "cell_type": "markdown",
   "id": "a13bb34f",
   "metadata": {},
   "source": [
    "г). от 166 см до 182 см (между -1 сигма и 1 сигма)"
   ]
  },
  {
   "cell_type": "code",
   "execution_count": 19,
   "id": "0fa90e3f",
   "metadata": {},
   "outputs": [
    {
     "data": {
      "text/plain": [
       "0.6826894921370859"
      ]
     },
     "execution_count": 19,
     "metadata": {},
     "output_type": "execute_result"
    }
   ],
   "source": [
    "p4 = norm.cdf(1) - norm.cdf(-1)\n",
    "p4"
   ]
  },
  {
   "cell_type": "markdown",
   "id": "28d5af7a",
   "metadata": {},
   "source": [
    "д). от 158 см до 190 см (между -2 сигма и 2 сигма)"
   ]
  },
  {
   "cell_type": "code",
   "execution_count": 20,
   "id": "b3f2603e",
   "metadata": {},
   "outputs": [
    {
     "data": {
      "text/plain": [
       "0.9544997361036416"
      ]
     },
     "execution_count": 20,
     "metadata": {},
     "output_type": "execute_result"
    }
   ],
   "source": [
    "p5 = norm.cdf(2) - norm.cdf(-2)\n",
    "p5"
   ]
  },
  {
   "cell_type": "markdown",
   "id": "c521c279",
   "metadata": {},
   "source": [
    "е). не выше 150 см или не ниже 190 см (меньше -3 сигма или больше 2 сигма)"
   ]
  },
  {
   "cell_type": "code",
   "execution_count": 21,
   "id": "913ef0ff",
   "metadata": {},
   "outputs": [
    {
     "data": {
      "text/plain": [
       "0.0241000299798093"
      ]
     },
     "execution_count": 21,
     "metadata": {},
     "output_type": "execute_result"
    }
   ],
   "source": [
    "p6 = norm.cdf(-3) + (1 - norm.cdf(2))\n",
    "p6"
   ]
  },
  {
   "cell_type": "markdown",
   "id": "06eecb24",
   "metadata": {},
   "source": [
    "ё). не выше 150 см или не ниже 198 см (меньше -3 сигма или больше 3 сигма)"
   ]
  },
  {
   "cell_type": "code",
   "execution_count": 22,
   "id": "fbe030a6",
   "metadata": {},
   "outputs": [
    {
     "data": {
      "text/plain": [
       "0.0026997960632601965"
      ]
     },
     "execution_count": 22,
     "metadata": {},
     "output_type": "execute_result"
    }
   ],
   "source": [
    "p6 = norm.cdf(-3) + (1 - norm.cdf(3))\n",
    "p6"
   ]
  },
  {
   "cell_type": "markdown",
   "id": "d304b853",
   "metadata": {},
   "source": [
    "ж). ниже 166 см. (меньше -1 сигма)"
   ]
  },
  {
   "cell_type": "code",
   "execution_count": 23,
   "id": "a5f20982",
   "metadata": {},
   "outputs": [
    {
     "data": {
      "text/plain": [
       "0.15865525393145707"
      ]
     },
     "execution_count": 23,
     "metadata": {},
     "output_type": "execute_result"
    }
   ],
   "source": [
    "p7 = norm.cdf(-1)\n",
    "p7"
   ]
  },
  {
   "cell_type": "markdown",
   "id": "a8548370",
   "metadata": {},
   "source": [
    "#### Задача 5"
   ]
  },
  {
   "cell_type": "markdown",
   "id": "7074ceff",
   "metadata": {},
   "source": [
    "На сколько сигм (средних квадратичных отклонений) отклоняется рост человека, равный 190 см, от\n",
    "математического ожидания роста в популяции, в которой M(X) = 178 см и D(X) = 25 кв.см?"
   ]
  },
  {
   "cell_type": "markdown",
   "id": "1ff586c1",
   "metadata": {},
   "source": [
    "Переведем число 190 в значение в Z-распределении. Это и будет искомая сигма. std = 5"
   ]
  },
  {
   "cell_type": "code",
   "execution_count": 24,
   "id": "8406fc4a",
   "metadata": {},
   "outputs": [
    {
     "data": {
      "text/plain": [
       "2.4"
      ]
     },
     "execution_count": 24,
     "metadata": {},
     "output_type": "execute_result"
    }
   ],
   "source": [
    "sigma = (190 - 178) / 5\n",
    "sigma"
   ]
  },
  {
   "cell_type": "code",
   "execution_count": null,
   "id": "5a1ac808",
   "metadata": {},
   "outputs": [],
   "source": []
  }
 ],
 "metadata": {
  "kernelspec": {
   "display_name": "Python 3 (ipykernel)",
   "language": "python",
   "name": "python3"
  },
  "language_info": {
   "codemirror_mode": {
    "name": "ipython",
    "version": 3
   },
   "file_extension": ".py",
   "mimetype": "text/x-python",
   "name": "python",
   "nbconvert_exporter": "python",
   "pygments_lexer": "ipython3",
   "version": "3.9.12"
  }
 },
 "nbformat": 4,
 "nbformat_minor": 5
}
