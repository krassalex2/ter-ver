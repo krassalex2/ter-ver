{
 "cells": [
  {
   "cell_type": "code",
   "execution_count": 1,
   "id": "bfa3c9b5",
   "metadata": {},
   "outputs": [],
   "source": [
    "import pandas as pd\n",
    "import numpy as np\n",
    "from statsmodels.stats.weightstats import _tconfint_generic as t_stat\n",
    "from scipy.stats import norm\n",
    "from scipy import stats\n",
    "import math"
   ]
  },
  {
   "cell_type": "markdown",
   "id": "19e8376b",
   "metadata": {},
   "source": [
    "#### Задача 1"
   ]
  },
  {
   "cell_type": "markdown",
   "id": "27e50062",
   "metadata": {},
   "source": [
    "Известно, что генеральная совокупность распределена нормально\n",
    "со средним квадратическим отклонением, равным 16.\n",
    "Найти доверительный интервал для оценки математического ожидания a с надежностью 0.95,\n",
    "если выборочная средняя M = 80, а объем выборки n = 256."
   ]
  },
  {
   "cell_type": "markdown",
   "id": "2e1428f6",
   "metadata": {},
   "source": [
    "Средне квадратическое отклонение генеральной совокупности "
   ]
  },
  {
   "cell_type": "code",
   "execution_count": 2,
   "id": "20ba59a0",
   "metadata": {},
   "outputs": [],
   "source": [
    "sigma = 16"
   ]
  },
  {
   "cell_type": "markdown",
   "id": "f99ba3f5",
   "metadata": {},
   "source": [
    "Среднее выборочное"
   ]
  },
  {
   "cell_type": "code",
   "execution_count": 3,
   "id": "5d863a44",
   "metadata": {},
   "outputs": [],
   "source": [
    "m = 80"
   ]
  },
  {
   "cell_type": "markdown",
   "id": "70fb2605",
   "metadata": {},
   "source": [
    "Объем выборки из генеральной совокупности"
   ]
  },
  {
   "cell_type": "code",
   "execution_count": 4,
   "id": "13fba982",
   "metadata": {},
   "outputs": [],
   "source": [
    "n = 256"
   ]
  },
  {
   "cell_type": "markdown",
   "id": "6f3cad49",
   "metadata": {},
   "source": [
    "Левая граница Z-критерия\n"
   ]
  },
  {
   "cell_type": "code",
   "execution_count": 5,
   "id": "98f405b5",
   "metadata": {},
   "outputs": [
    {
     "data": {
      "text/plain": [
       "1.959963984540054"
      ]
     },
     "execution_count": 5,
     "metadata": {},
     "output_type": "execute_result"
    }
   ],
   "source": [
    "zr = norm.ppf(0.975)\n",
    "zr"
   ]
  },
  {
   "cell_type": "markdown",
   "id": "2866afb7",
   "metadata": {},
   "source": [
    "Правая граница Z-критерия\n"
   ]
  },
  {
   "cell_type": "code",
   "execution_count": 6,
   "id": "e1a807d5",
   "metadata": {},
   "outputs": [
    {
     "data": {
      "text/plain": [
       "-1.9599639845400545"
      ]
     },
     "execution_count": 6,
     "metadata": {},
     "output_type": "execute_result"
    }
   ],
   "source": [
    "zl = norm.ppf(0.025)\n",
    "zl"
   ]
  },
  {
   "cell_type": "markdown",
   "id": "59a7830e",
   "metadata": {},
   "source": [
    "Доверительный интервал"
   ]
  },
  {
   "cell_type": "code",
   "execution_count": 7,
   "id": "b6978e86",
   "metadata": {},
   "outputs": [
    {
     "data": {
      "text/plain": [
       "(78.04003601545995, 81.95996398454005)"
      ]
     },
     "execution_count": 7,
     "metadata": {},
     "output_type": "execute_result"
    }
   ],
   "source": [
    "(m + zl * sigma / np.sqrt(n), m + zr * sigma / np.sqrt(n))"
   ]
  },
  {
   "cell_type": "markdown",
   "id": "c6fc96d7",
   "metadata": {},
   "source": [
    "#### Задача 2"
   ]
  },
  {
   "cell_type": "markdown",
   "id": "ecd1501d",
   "metadata": {},
   "source": [
    "В результате 10 независимых измерений некоторой величины X, выполненных с одинаковой точностью,\n",
    "получены опытные данные:\n",
    "6.9, 6.1, 6.2, 6.8, 7.5, 6.3, 6.4, 6.9, 6.7, 6.1\n",
    "Предполагая, что результаты измерений подчинены нормальному закону распределения вероятностей,\n",
    "оценить истинное значение величины X при помощи доверительного интервала, покрывающего это\n",
    "значение с доверительной вероятностью 0,95."
   ]
  },
  {
   "cell_type": "markdown",
   "id": "a04b9ad9",
   "metadata": {},
   "source": [
    "Объем выборки из генеральной совокупности"
   ]
  },
  {
   "cell_type": "code",
   "execution_count": 8,
   "id": "b6ed1c6f",
   "metadata": {},
   "outputs": [
    {
     "data": {
      "text/plain": [
       "array([6.9, 6.1, 6.2, 6.8, 7.5, 6.3, 6.4, 6.9, 6.7, 6.1])"
      ]
     },
     "execution_count": 8,
     "metadata": {},
     "output_type": "execute_result"
    }
   ],
   "source": [
    "data = np.array([6.9, 6.1, 6.2, 6.8, 7.5, 6.3, 6.4, 6.9, 6.7, 6.1])\n",
    "data"
   ]
  },
  {
   "cell_type": "markdown",
   "id": "b4ef9e6f",
   "metadata": {},
   "source": [
    "Объем выборки"
   ]
  },
  {
   "cell_type": "code",
   "execution_count": 9,
   "id": "7b4c6dd9",
   "metadata": {},
   "outputs": [
    {
     "data": {
      "text/plain": [
       "10"
      ]
     },
     "execution_count": 9,
     "metadata": {},
     "output_type": "execute_result"
    }
   ],
   "source": [
    "n = data.size\n",
    "n"
   ]
  },
  {
   "cell_type": "markdown",
   "id": "f4412cf1",
   "metadata": {},
   "source": [
    "Среднеквадратичное отклонение"
   ]
  },
  {
   "cell_type": "code",
   "execution_count": 10,
   "id": "3894983c",
   "metadata": {},
   "outputs": [
    {
     "data": {
      "text/plain": [
       "0.4508017549014448"
      ]
     },
     "execution_count": 10,
     "metadata": {},
     "output_type": "execute_result"
    }
   ],
   "source": [
    "sigma = data.std(ddof = 1)\n",
    "sigma"
   ]
  },
  {
   "cell_type": "markdown",
   "id": "8c80ddc9",
   "metadata": {},
   "source": [
    "Среднее"
   ]
  },
  {
   "cell_type": "code",
   "execution_count": 11,
   "id": "3fdb61b9",
   "metadata": {},
   "outputs": [
    {
     "data": {
      "text/plain": [
       "6.590000000000001"
      ]
     },
     "execution_count": 11,
     "metadata": {},
     "output_type": "execute_result"
    }
   ],
   "source": [
    "m = data.mean()\n",
    "m"
   ]
  },
  {
   "cell_type": "markdown",
   "id": "cb5eb71a",
   "metadata": {},
   "source": [
    "Правая граница t-критерия"
   ]
  },
  {
   "cell_type": "code",
   "execution_count": 15,
   "id": "bb737589",
   "metadata": {},
   "outputs": [],
   "source": [
    "t_obj = stats.t(n - 1)\n",
    "zr = t_obj.ppf(0.975)"
   ]
  },
  {
   "cell_type": "markdown",
   "id": "5bfdfd43",
   "metadata": {},
   "source": [
    "Левая граница t-критерия"
   ]
  },
  {
   "cell_type": "code",
   "execution_count": 16,
   "id": "8d02efd1",
   "metadata": {},
   "outputs": [],
   "source": [
    "zl = t_obj.ppf(0.025)"
   ]
  },
  {
   "cell_type": "markdown",
   "id": "e8bad69b",
   "metadata": {},
   "source": [
    "Доверительный интервал"
   ]
  },
  {
   "cell_type": "code",
   "execution_count": 17,
   "id": "60e84a1b",
   "metadata": {},
   "outputs": [
    {
     "data": {
      "text/plain": [
       "(6.267515851415713, 6.912484148584288)"
      ]
     },
     "execution_count": 17,
     "metadata": {},
     "output_type": "execute_result"
    }
   ],
   "source": [
    "(m + zl * sigma / np.sqrt(n), m + zr * sigma / np.sqrt(n))"
   ]
  },
  {
   "cell_type": "markdown",
   "id": "1b60d57a",
   "metadata": {},
   "source": [
    "#### Задача 3"
   ]
  },
  {
   "cell_type": "markdown",
   "id": "893d7fb1",
   "metadata": {},
   "source": [
    "Проведите тест гипотезы. Утверждается, что шарики для подшипников, изготовленные автоматическим станком, имеют средний диаметр 17 мм.\n",
    "Используя односторонний критерий с α=0,05, проверить эту гипотезу, если в выборке из n=100 шариков средний диаметр\n",
    "оказался равным 17.5 мм, а дисперсия известна и равна 4 кв. мм."
   ]
  },
  {
   "cell_type": "code",
   "execution_count": 18,
   "id": "44f90bbf",
   "metadata": {},
   "outputs": [],
   "source": [
    "m0 = 17"
   ]
  },
  {
   "cell_type": "code",
   "execution_count": 20,
   "id": "969e17e3",
   "metadata": {},
   "outputs": [],
   "source": [
    "m1 = 17.5"
   ]
  },
  {
   "cell_type": "markdown",
   "id": "84427c65",
   "metadata": {},
   "source": [
    "H0 - нулевая гипотеза. m0 = m1"
   ]
  },
  {
   "cell_type": "markdown",
   "id": "aed21c81",
   "metadata": {},
   "source": [
    "H1 - альтернативная гипотеза m0 < m1"
   ]
  },
  {
   "cell_type": "markdown",
   "id": "690c50e2",
   "metadata": {},
   "source": [
    "Размер выборки"
   ]
  },
  {
   "cell_type": "code",
   "execution_count": 21,
   "id": "7687cd21",
   "metadata": {},
   "outputs": [],
   "source": [
    "n = 100"
   ]
  },
  {
   "cell_type": "markdown",
   "id": "6c11268f",
   "metadata": {},
   "source": [
    "Среднеквадратичное отклонение генеральной совокупности"
   ]
  },
  {
   "cell_type": "code",
   "execution_count": 30,
   "id": "4eb84b47",
   "metadata": {},
   "outputs": [
    {
     "data": {
      "text/plain": [
       "2.0"
      ]
     },
     "execution_count": 30,
     "metadata": {},
     "output_type": "execute_result"
    }
   ],
   "source": [
    "v = 4\n",
    "sigma = np.sqrt(4)\n",
    "sigma"
   ]
  },
  {
   "cell_type": "markdown",
   "id": "0039d158",
   "metadata": {},
   "source": [
    "Находим значение Z-критерия, соответсвующее a = 0.05"
   ]
  },
  {
   "cell_type": "code",
   "execution_count": 25,
   "id": "aefa0b04",
   "metadata": {},
   "outputs": [
    {
     "data": {
      "text/plain": [
       "1.6448536269514722"
      ]
     },
     "execution_count": 25,
     "metadata": {},
     "output_type": "execute_result"
    }
   ],
   "source": [
    "z = norm.ppf(0.95)\n",
    "z"
   ]
  },
  {
   "cell_type": "markdown",
   "id": "75b33c41",
   "metadata": {},
   "source": [
    "Находим расчетное значение Z-критерия"
   ]
  },
  {
   "cell_type": "code",
   "execution_count": 33,
   "id": "deec9464",
   "metadata": {},
   "outputs": [
    {
     "data": {
      "text/plain": [
       "2.5"
      ]
     },
     "execution_count": 33,
     "metadata": {},
     "output_type": "execute_result"
    }
   ],
   "source": [
    "zr = (17.5-17) / (2 / np.sqrt(n))\n",
    "zr"
   ]
  },
  {
   "cell_type": "markdown",
   "id": "6fec8151",
   "metadata": {},
   "source": [
    "zr > z, значит принимаем альтернативную гипотезу H1, так как находимся в области принятий этой гипотезы"
   ]
  },
  {
   "cell_type": "markdown",
   "id": "7a795f1a",
   "metadata": {},
   "source": [
    "#### Задача 4"
   ]
  },
  {
   "cell_type": "markdown",
   "id": "2cfb0287",
   "metadata": {},
   "source": [
    "Проведите тест гипотезы. Продавец утверждает, что средний вес пачки печенья составляет 200 г.\n",
    "Из партии извлечена выборка из 10 пачек. Вес каждой пачки составляет:\n",
    "202, 203, 199, 197, 195, 201, 200, 204, 194, 190.\n",
    "Известно, что их веса распределены нормально.\n",
    "Верно ли утверждение продавца, если учитывать, что доверительная вероятность равна 99%? (Провести двусторонний тест.)"
   ]
  },
  {
   "cell_type": "code",
   "execution_count": 40,
   "id": "f8c8c10e",
   "metadata": {},
   "outputs": [
    {
     "data": {
      "text/plain": [
       "200"
      ]
     },
     "execution_count": 40,
     "metadata": {},
     "output_type": "execute_result"
    }
   ],
   "source": [
    "m0 = 200\n",
    "m0"
   ]
  },
  {
   "cell_type": "code",
   "execution_count": 39,
   "id": "20bb3b02",
   "metadata": {},
   "outputs": [
    {
     "data": {
      "text/plain": [
       "array([202, 203, 199, 197, 195, 201, 200, 204, 194, 190])"
      ]
     },
     "execution_count": 39,
     "metadata": {},
     "output_type": "execute_result"
    }
   ],
   "source": [
    "data = np.array([202, 203, 199, 197, 195, 201, 200, 204, 194, 190])\n",
    "data"
   ]
  },
  {
   "cell_type": "code",
   "execution_count": 38,
   "id": "d69f9b41",
   "metadata": {},
   "outputs": [
    {
     "data": {
      "text/plain": [
       "10"
      ]
     },
     "execution_count": 38,
     "metadata": {},
     "output_type": "execute_result"
    }
   ],
   "source": [
    "n = data.size\n",
    "n"
   ]
  },
  {
   "cell_type": "code",
   "execution_count": 41,
   "id": "4b3a4de1",
   "metadata": {},
   "outputs": [
    {
     "data": {
      "text/plain": [
       "0.99"
      ]
     },
     "execution_count": 41,
     "metadata": {},
     "output_type": "execute_result"
    }
   ],
   "source": [
    "a = 0.99\n",
    "a"
   ]
  },
  {
   "cell_type": "code",
   "execution_count": 43,
   "id": "5620f27f",
   "metadata": {},
   "outputs": [
    {
     "data": {
      "text/plain": [
       "198.5"
      ]
     },
     "execution_count": 43,
     "metadata": {},
     "output_type": "execute_result"
    }
   ],
   "source": [
    "m1 = data.mean()\n",
    "m1"
   ]
  },
  {
   "cell_type": "code",
   "execution_count": 46,
   "id": "60cd7bc4",
   "metadata": {},
   "outputs": [
    {
     "data": {
      "text/plain": [
       "4.453463071962462"
      ]
     },
     "execution_count": 46,
     "metadata": {},
     "output_type": "execute_result"
    }
   ],
   "source": [
    "sigma = data.std(ddof=1)\n",
    "sigma"
   ]
  },
  {
   "cell_type": "markdown",
   "id": "217fbe54",
   "metadata": {},
   "source": [
    "H0 - m = m0"
   ]
  },
  {
   "cell_type": "markdown",
   "id": "d976f24d",
   "metadata": {},
   "source": [
    "H1 - m <> m0"
   ]
  },
  {
   "cell_type": "markdown",
   "id": "0f2e264f",
   "metadata": {},
   "source": [
    "Правая граница t-критерия"
   ]
  },
  {
   "cell_type": "code",
   "execution_count": 47,
   "id": "7937fb89",
   "metadata": {},
   "outputs": [
    {
     "data": {
      "text/plain": [
       "3.2498355440153697"
      ]
     },
     "execution_count": 47,
     "metadata": {},
     "output_type": "execute_result"
    }
   ],
   "source": [
    "t_obj = stats.t(n - 1)\n",
    "zr = t_obj.ppf(0.995)\n",
    "zr"
   ]
  },
  {
   "cell_type": "code",
   "execution_count": 48,
   "id": "32db5820",
   "metadata": {},
   "outputs": [
    {
     "data": {
      "text/plain": [
       "-3.2498355440153697"
      ]
     },
     "execution_count": 48,
     "metadata": {},
     "output_type": "execute_result"
    }
   ],
   "source": [
    "zl = t_obj.ppf(1 - 0.995)\n",
    "zl"
   ]
  },
  {
   "cell_type": "markdown",
   "id": "f05b88b3",
   "metadata": {},
   "source": [
    "Расчетное значение t-критерия"
   ]
  },
  {
   "cell_type": "code",
   "execution_count": 50,
   "id": "c11ae0be",
   "metadata": {},
   "outputs": [
    {
     "data": {
      "text/plain": [
       "-1.0651074037450896"
      ]
     },
     "execution_count": 50,
     "metadata": {},
     "output_type": "execute_result"
    }
   ],
   "source": [
    "(m1 - m0) / (sigma / np.sqrt(n))"
   ]
  },
  {
   "cell_type": "markdown",
   "id": "972157f9",
   "metadata": {},
   "source": [
    "Видно, что значение лежит между правой и левой границами табличного t-критерия, значит принимаем гипотезу H0"
   ]
  },
  {
   "cell_type": "code",
   "execution_count": null,
   "id": "3c314777",
   "metadata": {},
   "outputs": [],
   "source": []
  }
 ],
 "metadata": {
  "kernelspec": {
   "display_name": "Python 3 (ipykernel)",
   "language": "python",
   "name": "python3"
  },
  "language_info": {
   "codemirror_mode": {
    "name": "ipython",
    "version": 3
   },
   "file_extension": ".py",
   "mimetype": "text/x-python",
   "name": "python",
   "nbconvert_exporter": "python",
   "pygments_lexer": "ipython3",
   "version": "3.9.12"
  }
 },
 "nbformat": 4,
 "nbformat_minor": 5
}
