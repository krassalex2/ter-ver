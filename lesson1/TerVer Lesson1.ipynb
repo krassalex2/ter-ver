{
 "cells": [
  {
   "cell_type": "code",
   "execution_count": 4,
   "id": "ce6a349b",
   "metadata": {},
   "outputs": [],
   "source": [
    "import numpy as np\n",
    "from math import factorial"
   ]
  },
  {
   "cell_type": "markdown",
   "id": "95061719",
   "metadata": {},
   "source": [
    "Вспомогательные функции"
   ]
  },
  {
   "cell_type": "code",
   "execution_count": 6,
   "id": "7c880989",
   "metadata": {},
   "outputs": [],
   "source": [
    "# Сочетания из n по k\n",
    "def combinations(n, k):\n",
    "    return int(factorial(n) / (factorial(k) * factorial(n - k)))"
   ]
  },
  {
   "cell_type": "code",
   "execution_count": 27,
   "id": "b161b4b0",
   "metadata": {},
   "outputs": [],
   "source": [
    "# Размещения из n по k\n",
    "def arrangements(n, k):\n",
    "    return int(factorial(n) / factorial(n - k))"
   ]
  },
  {
   "cell_type": "markdown",
   "id": "a78c0260",
   "metadata": {},
   "source": [
    "#### Задача 1"
   ]
  },
  {
   "cell_type": "markdown",
   "id": "38fa0c24",
   "metadata": {},
   "source": [
    "Из колоды в 52 карты извлекаются случайным образом 4 карты. a) Найти вероятность того, что все карты – крести. б) Найти вероятность, что среди 4-х карт окажется хотя бы один туз."
   ]
  },
  {
   "cell_type": "markdown",
   "id": "07612432",
   "metadata": {},
   "source": [
    "a) Так как выбираем 4 карты и порядок не важен, то общее кол-во возможных элементарных исходов"
   ]
  },
  {
   "cell_type": "code",
   "execution_count": 11,
   "id": "5254e3ac",
   "metadata": {},
   "outputs": [
    {
     "data": {
      "text/plain": [
       "270725"
      ]
     },
     "execution_count": 11,
     "metadata": {},
     "output_type": "execute_result"
    }
   ],
   "source": [
    "n = combinations(52,4)\n",
    "n"
   ]
  },
  {
   "cell_type": "markdown",
   "id": "f0edee76",
   "metadata": {},
   "source": [
    "Карт одной масти - 13. Значит кол-во благоприятствующих исходов сочетания из 13 по 4, то есть кол-во комбинаций, которыми можно выбрать 4 карты одной масти."
   ]
  },
  {
   "cell_type": "code",
   "execution_count": 13,
   "id": "20f7de7e",
   "metadata": {},
   "outputs": [
    {
     "data": {
      "text/plain": [
       "715"
      ]
     },
     "execution_count": 13,
     "metadata": {},
     "output_type": "execute_result"
    }
   ],
   "source": [
    "m = combinations(13, 4)\n",
    "m"
   ]
  },
  {
   "cell_type": "markdown",
   "id": "4411aa57",
   "metadata": {},
   "source": [
    "Вероятность того, что все карты – крести"
   ]
  },
  {
   "cell_type": "code",
   "execution_count": 15,
   "id": "cf23b05a",
   "metadata": {},
   "outputs": [
    {
     "data": {
      "text/plain": [
       "0.0026410564225690276"
      ]
     },
     "execution_count": 15,
     "metadata": {},
     "output_type": "execute_result"
    }
   ],
   "source": [
    "r = m/n\n",
    "r"
   ]
  },
  {
   "cell_type": "markdown",
   "id": "e90d3a2f",
   "metadata": {},
   "source": [
    "б) Найти вероятность, что среди 4-х карт окажется хотя бы один туз."
   ]
  },
  {
   "cell_type": "markdown",
   "id": "f0d23d04",
   "metadata": {},
   "source": [
    "Общее кол-во исходов уже подсчитывалось"
   ]
  },
  {
   "cell_type": "code",
   "execution_count": 19,
   "id": "679e8dfa",
   "metadata": {},
   "outputs": [
    {
     "data": {
      "text/plain": [
       "270725"
      ]
     },
     "execution_count": 19,
     "metadata": {},
     "output_type": "execute_result"
    }
   ],
   "source": [
    "n"
   ]
  },
  {
   "cell_type": "markdown",
   "id": "f9e047b5",
   "metadata": {},
   "source": [
    "Кол-во способов, которыми можно выбрать 4 карты, где вообще нет тузов"
   ]
  },
  {
   "cell_type": "code",
   "execution_count": 20,
   "id": "3708b3ba",
   "metadata": {},
   "outputs": [
    {
     "data": {
      "text/plain": [
       "194580"
      ]
     },
     "execution_count": 20,
     "metadata": {},
     "output_type": "execute_result"
    }
   ],
   "source": [
    "m = combinations(48, 4)\n",
    "m"
   ]
  },
  {
   "cell_type": "markdown",
   "id": "7a7732cd",
   "metadata": {},
   "source": [
    "Значит, кол-во благоприятствующих исходов, где есть хотя бы один туз это все исходы минус исходы где точно нет ни одного туза"
   ]
  },
  {
   "cell_type": "code",
   "execution_count": 22,
   "id": "5471037f",
   "metadata": {},
   "outputs": [
    {
     "data": {
      "text/plain": [
       "76145"
      ]
     },
     "execution_count": 22,
     "metadata": {},
     "output_type": "execute_result"
    }
   ],
   "source": [
    "t = n - m\n",
    "t"
   ]
  },
  {
   "cell_type": "markdown",
   "id": "9143fffc",
   "metadata": {},
   "source": [
    "Вероятность того, что в 4 выбранных картах нет ни одного туза"
   ]
  },
  {
   "cell_type": "code",
   "execution_count": 26,
   "id": "6d1e2d37",
   "metadata": {},
   "outputs": [
    {
     "data": {
      "text/plain": [
       "0.2812632745405855"
      ]
     },
     "execution_count": 26,
     "metadata": {},
     "output_type": "execute_result"
    }
   ],
   "source": [
    "r = t/n\n",
    "r"
   ]
  },
  {
   "cell_type": "markdown",
   "id": "e233e750",
   "metadata": {},
   "source": [
    "#### Задача 2"
   ]
  },
  {
   "cell_type": "markdown",
   "id": "b8cb43cf",
   "metadata": {},
   "source": [
    "На входной двери подъезда установлен кодовый замок, содержащий десять кнопок с цифрами от 0 до 9. Код содержит три цифры, которые нужно нажать одновременно. Какова вероятность того, что человек, не знающий код, откроет дверь с первой попытки?"
   ]
  },
  {
   "cell_type": "markdown",
   "id": "778542cb",
   "metadata": {},
   "source": [
    "Общее количество возможных комбинаций выбрать 3 цифры из 10 равно количеству размещений из 10 по 3, так как порядок важен"
   ]
  },
  {
   "cell_type": "code",
   "execution_count": 28,
   "id": "84311cd3",
   "metadata": {},
   "outputs": [
    {
     "data": {
      "text/plain": [
       "720"
      ]
     },
     "execution_count": 28,
     "metadata": {},
     "output_type": "execute_result"
    }
   ],
   "source": [
    "n = arrangements(10,3)\n",
    "n"
   ]
  },
  {
   "cell_type": "markdown",
   "id": "1a0d85b0",
   "metadata": {},
   "source": [
    "Значит, вероятность того, что человек, не знающий код, откроет дверь с первой попытки равна"
   ]
  },
  {
   "cell_type": "code",
   "execution_count": 30,
   "id": "afc58f27",
   "metadata": {},
   "outputs": [
    {
     "data": {
      "text/plain": [
       "0.001388888888888889"
      ]
     },
     "execution_count": 30,
     "metadata": {},
     "output_type": "execute_result"
    }
   ],
   "source": [
    "1/n"
   ]
  },
  {
   "cell_type": "markdown",
   "id": "39afe79f",
   "metadata": {},
   "source": [
    "#### Задача 3"
   ]
  },
  {
   "cell_type": "markdown",
   "id": "cb8cfb2d",
   "metadata": {},
   "source": [
    "В ящике имеется 15 деталей, из которых 9 окрашены. Рабочий случайным образом извлекает 3 детали. Какова вероятность того, что все извлеченные детали окрашены?"
   ]
  },
  {
   "cell_type": "markdown",
   "id": "75624383",
   "metadata": {},
   "source": [
    "Вероятность того, что первая вытащенная деталь окрашенная"
   ]
  },
  {
   "cell_type": "code",
   "execution_count": 32,
   "id": "18d27aae",
   "metadata": {},
   "outputs": [
    {
     "data": {
      "text/plain": [
       "0.6"
      ]
     },
     "execution_count": 32,
     "metadata": {},
     "output_type": "execute_result"
    }
   ],
   "source": [
    "p1 = 9/15\n",
    "p1"
   ]
  },
  {
   "cell_type": "markdown",
   "id": "ae972c37",
   "metadata": {},
   "source": [
    "Вероятность того, что вторая вытащенная деталь окрашенная"
   ]
  },
  {
   "cell_type": "code",
   "execution_count": 33,
   "id": "bc5eb3b0",
   "metadata": {},
   "outputs": [
    {
     "data": {
      "text/plain": [
       "0.5714285714285714"
      ]
     },
     "execution_count": 33,
     "metadata": {},
     "output_type": "execute_result"
    }
   ],
   "source": [
    "p2 = 8/14\n",
    "p2"
   ]
  },
  {
   "cell_type": "markdown",
   "id": "ca8b3f7c",
   "metadata": {},
   "source": [
    "Вероятность того, что третья вытащенная деталь окрашенная"
   ]
  },
  {
   "cell_type": "code",
   "execution_count": 34,
   "id": "0031c2de",
   "metadata": {},
   "outputs": [
    {
     "data": {
      "text/plain": [
       "0.5384615384615384"
      ]
     },
     "execution_count": 34,
     "metadata": {},
     "output_type": "execute_result"
    }
   ],
   "source": [
    "p3 = 7/13\n",
    "p3"
   ]
  },
  {
   "cell_type": "markdown",
   "id": "c7e7f4a0",
   "metadata": {},
   "source": [
    "Значит, вероятность того, что все 3 детали окрашенные равна произведению этих вероятностей."
   ]
  },
  {
   "cell_type": "code",
   "execution_count": 35,
   "id": "59b5c868",
   "metadata": {},
   "outputs": [
    {
     "data": {
      "text/plain": [
       "0.18461538461538457"
      ]
     },
     "execution_count": 35,
     "metadata": {},
     "output_type": "execute_result"
    }
   ],
   "source": [
    "p = p1 * p2 * p3\n",
    "p"
   ]
  },
  {
   "cell_type": "markdown",
   "id": "35706f88",
   "metadata": {},
   "source": [
    "Задачу можно решить и через сочетания."
   ]
  },
  {
   "cell_type": "markdown",
   "id": "fd5efadf",
   "metadata": {},
   "source": [
    "Общее кол-во вариантов вытащить 3 детали из 15"
   ]
  },
  {
   "cell_type": "code",
   "execution_count": 37,
   "id": "8a9e510f",
   "metadata": {},
   "outputs": [
    {
     "data": {
      "text/plain": [
       "455"
      ]
     },
     "execution_count": 37,
     "metadata": {},
     "output_type": "execute_result"
    }
   ],
   "source": [
    "n = combinations(15, 3)\n",
    "n"
   ]
  },
  {
   "cell_type": "markdown",
   "id": "65dd20ab",
   "metadata": {},
   "source": [
    "Кол-во благоприятствующих исходов"
   ]
  },
  {
   "cell_type": "code",
   "execution_count": 40,
   "id": "889f09a3",
   "metadata": {},
   "outputs": [
    {
     "data": {
      "text/plain": [
       "84"
      ]
     },
     "execution_count": 40,
     "metadata": {},
     "output_type": "execute_result"
    }
   ],
   "source": [
    "m = combinations(9, 3)\n",
    "m"
   ]
  },
  {
   "cell_type": "markdown",
   "id": "a6832fed",
   "metadata": {},
   "source": [
    "Тогда искомая вероятность"
   ]
  },
  {
   "cell_type": "code",
   "execution_count": 41,
   "id": "cc9e7011",
   "metadata": {},
   "outputs": [
    {
     "data": {
      "text/plain": [
       "0.18461538461538463"
      ]
     },
     "execution_count": 41,
     "metadata": {},
     "output_type": "execute_result"
    }
   ],
   "source": [
    "p = m/n\n",
    "p"
   ]
  },
  {
   "cell_type": "markdown",
   "id": "e981de8e",
   "metadata": {},
   "source": [
    "#### Задача 4"
   ]
  },
  {
   "cell_type": "markdown",
   "id": "7bcb4212",
   "metadata": {},
   "source": [
    "В лотерее 100 билетов. Из них 2 выигрышных. Какова вероятность того, что 2 приобретенных билета окажутся выигрышными?"
   ]
  },
  {
   "cell_type": "markdown",
   "id": "31706977",
   "metadata": {},
   "source": [
    "Общее кол-во исходов"
   ]
  },
  {
   "cell_type": "code",
   "execution_count": 43,
   "id": "ba74b872",
   "metadata": {},
   "outputs": [
    {
     "data": {
      "text/plain": [
       "4950"
      ]
     },
     "execution_count": 43,
     "metadata": {},
     "output_type": "execute_result"
    }
   ],
   "source": [
    "n = combinations(100, 2)\n",
    "n"
   ]
  },
  {
   "cell_type": "markdown",
   "id": "04f6dd24",
   "metadata": {},
   "source": [
    "Кол-во благоприятствующих исходов"
   ]
  },
  {
   "cell_type": "code",
   "execution_count": 45,
   "id": "5345dbbf",
   "metadata": {},
   "outputs": [
    {
     "data": {
      "text/plain": [
       "1"
      ]
     },
     "execution_count": 45,
     "metadata": {},
     "output_type": "execute_result"
    }
   ],
   "source": [
    "m = combinations(2, 2)\n",
    "m"
   ]
  },
  {
   "cell_type": "markdown",
   "id": "71539318",
   "metadata": {},
   "source": [
    "Искомая вероятность"
   ]
  },
  {
   "cell_type": "code",
   "execution_count": 47,
   "id": "2f609926",
   "metadata": {},
   "outputs": [
    {
     "data": {
      "text/plain": [
       "0.00020202020202020202"
      ]
     },
     "execution_count": 47,
     "metadata": {},
     "output_type": "execute_result"
    }
   ],
   "source": [
    "p = m/n\n",
    "p"
   ]
  },
  {
   "cell_type": "markdown",
   "id": "70536b2c",
   "metadata": {},
   "source": [
    "Эту задачу можно решить и другим способом.\n"
   ]
  },
  {
   "cell_type": "markdown",
   "id": "690c10ea",
   "metadata": {},
   "source": [
    "Вероятность того, что первый вытащенный билет выйгрышный"
   ]
  },
  {
   "cell_type": "code",
   "execution_count": 49,
   "id": "7147dddf",
   "metadata": {},
   "outputs": [
    {
     "data": {
      "text/plain": [
       "0.02"
      ]
     },
     "execution_count": 49,
     "metadata": {},
     "output_type": "execute_result"
    }
   ],
   "source": [
    "p1 = 2/100\n",
    "p1"
   ]
  },
  {
   "cell_type": "markdown",
   "id": "1e337cc0",
   "metadata": {},
   "source": [
    "Вероятность того, что второй вытащенный билет выйгрышный"
   ]
  },
  {
   "cell_type": "code",
   "execution_count": 50,
   "id": "30e61a9b",
   "metadata": {},
   "outputs": [
    {
     "data": {
      "text/plain": [
       "0.010101010101010102"
      ]
     },
     "execution_count": 50,
     "metadata": {},
     "output_type": "execute_result"
    }
   ],
   "source": [
    "p2 = 1/99\n",
    "p2"
   ]
  },
  {
   "cell_type": "markdown",
   "id": "1826c250",
   "metadata": {},
   "source": [
    "Искомая вероятность"
   ]
  },
  {
   "cell_type": "code",
   "execution_count": 51,
   "id": "0debbb50",
   "metadata": {},
   "outputs": [
    {
     "data": {
      "text/plain": [
       "0.00020202020202020205"
      ]
     },
     "execution_count": 51,
     "metadata": {},
     "output_type": "execute_result"
    }
   ],
   "source": [
    "p = p1 * p2\n",
    "p"
   ]
  },
  {
   "cell_type": "code",
   "execution_count": null,
   "id": "0ee8892c",
   "metadata": {},
   "outputs": [],
   "source": []
  }
 ],
 "metadata": {
  "kernelspec": {
   "display_name": "Python 3 (ipykernel)",
   "language": "python",
   "name": "python3"
  },
  "language_info": {
   "codemirror_mode": {
    "name": "ipython",
    "version": 3
   },
   "file_extension": ".py",
   "mimetype": "text/x-python",
   "name": "python",
   "nbconvert_exporter": "python",
   "pygments_lexer": "ipython3",
   "version": "3.9.12"
  }
 },
 "nbformat": 4,
 "nbformat_minor": 5
}
