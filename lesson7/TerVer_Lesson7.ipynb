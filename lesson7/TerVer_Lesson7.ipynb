{
 "cells": [
  {
   "cell_type": "markdown",
   "id": "863b7313",
   "metadata": {},
   "source": [
    "#### Задача 1"
   ]
  },
  {
   "cell_type": "markdown",
   "id": "1b6832cc",
   "metadata": {},
   "source": [
    "Даны значения величины заработной платы заемщиков банка (zp) и значения их поведенческого кредитного скоринга (ks): zp = [35, 45, 190, 200, 40, 70, 54, 150, 120, 110], ks = [401, 574, 874, 919, 459, 739, 653, 902, 746, 832]. Используя математические операции, посчитать коэффициенты линейной регрессии, приняв за X заработную плату (то есть, zp - признак), а за y - значения скорингового балла (то есть, ks - целевая переменная). Произвести расчет как с использованием intercept, так и без."
   ]
  },
  {
   "cell_type": "code",
   "execution_count": 88,
   "id": "af538efe",
   "metadata": {},
   "outputs": [],
   "source": [
    "import numpy as np"
   ]
  },
  {
   "cell_type": "code",
   "execution_count": 89,
   "id": "82b3af89",
   "metadata": {},
   "outputs": [
    {
     "data": {
      "text/plain": [
       "array([ 35,  45, 190, 200,  40,  70,  54, 150, 120, 110])"
      ]
     },
     "execution_count": 89,
     "metadata": {},
     "output_type": "execute_result"
    }
   ],
   "source": [
    "zp = np.array([35, 45, 190, 200, 40, 70, 54, 150, 120, 110])\n",
    "X = zp\n",
    "X"
   ]
  },
  {
   "cell_type": "code",
   "execution_count": 90,
   "id": "947b193e",
   "metadata": {},
   "outputs": [
    {
     "data": {
      "text/plain": [
       "array([401, 574, 874, 919, 459, 739, 653, 902, 746, 832])"
      ]
     },
     "execution_count": 90,
     "metadata": {},
     "output_type": "execute_result"
    }
   ],
   "source": [
    "ks = np.array([401, 574, 874, 919, 459, 739, 653, 902, 746, 832])\n",
    "y = ks\n",
    "ks"
   ]
  },
  {
   "cell_type": "markdown",
   "id": "9413a448",
   "metadata": {},
   "source": [
    "Рассчитаем коэффициент b по формулам МНК."
   ]
  },
  {
   "cell_type": "code",
   "execution_count": 91,
   "id": "988b7b98",
   "metadata": {},
   "outputs": [
    {
     "data": {
      "text/plain": [
       "2.620538882402765"
      ]
     },
     "execution_count": 91,
     "metadata": {},
     "output_type": "execute_result"
    }
   ],
   "source": [
    "b = (np.mean(X*y)-np.mean(X)*np.mean(y))/(np.mean(X**2)-np.mean(X)**2)\n",
    "b"
   ]
  },
  {
   "cell_type": "markdown",
   "id": "d516dc4f",
   "metadata": {},
   "source": [
    "Рассчитаем intercept"
   ]
  },
  {
   "cell_type": "code",
   "execution_count": 92,
   "id": "029a3e12",
   "metadata": {},
   "outputs": [
    {
     "data": {
      "text/plain": [
       "444.1773573243596"
      ]
     },
     "execution_count": 92,
     "metadata": {},
     "output_type": "execute_result"
    }
   ],
   "source": [
    "a = np.mean(y) - b*np.mean(X)\n",
    "a"
   ]
  },
  {
   "cell_type": "markdown",
   "id": "6bb6b6e1",
   "metadata": {},
   "source": [
    "Получаем линейную регрессию вида y = 444.1773573243596 + 2.620538882402765 * x"
   ]
  },
  {
   "cell_type": "markdown",
   "id": "7f2a3563",
   "metadata": {},
   "source": [
    "Рассчитаем модель без intercept с помощью матричного метода."
   ]
  },
  {
   "cell_type": "code",
   "execution_count": 93,
   "id": "9879e2b8",
   "metadata": {},
   "outputs": [
    {
     "data": {
      "text/plain": [
       "array([[ 35],\n",
       "       [ 45],\n",
       "       [190],\n",
       "       [200],\n",
       "       [ 40],\n",
       "       [ 70],\n",
       "       [ 54],\n",
       "       [150],\n",
       "       [120],\n",
       "       [110]])"
      ]
     },
     "execution_count": 93,
     "metadata": {},
     "output_type": "execute_result"
    }
   ],
   "source": [
    "X = X.reshape(10, 1)\n",
    "X"
   ]
  },
  {
   "cell_type": "code",
   "execution_count": 94,
   "id": "307ca87f",
   "metadata": {},
   "outputs": [
    {
     "data": {
      "text/plain": [
       "array([[401],\n",
       "       [574],\n",
       "       [874],\n",
       "       [919],\n",
       "       [459],\n",
       "       [739],\n",
       "       [653],\n",
       "       [902],\n",
       "       [746],\n",
       "       [832]])"
      ]
     },
     "execution_count": 94,
     "metadata": {},
     "output_type": "execute_result"
    }
   ],
   "source": [
    "y = y.reshape(10, 1)\n",
    "y"
   ]
  },
  {
   "cell_type": "code",
   "execution_count": 95,
   "id": "2d1e4f4f",
   "metadata": {},
   "outputs": [
    {
     "data": {
      "text/plain": [
       "array([[5.88982042]])"
      ]
     },
     "execution_count": 95,
     "metadata": {},
     "output_type": "execute_result"
    }
   ],
   "source": [
    "B = np.dot(np.linalg.inv(np.dot(X.T, X)),X.T @ y)\n",
    "B"
   ]
  },
  {
   "cell_type": "markdown",
   "id": "0bc772d2",
   "metadata": {},
   "source": [
    "Получаем линейную регрессию вида"
   ]
  },
  {
   "cell_type": "markdown",
   "id": "bf71e447",
   "metadata": {},
   "source": [
    "y = 5.88982042 * x"
   ]
  },
  {
   "cell_type": "markdown",
   "id": "b12f3b5d",
   "metadata": {},
   "source": [
    "#### Задача 2"
   ]
  },
  {
   "cell_type": "markdown",
   "id": "29cf5e6f",
   "metadata": {},
   "source": [
    "Посчитать коэффициент линейной регрессии при заработной плате (zp), используя градиентный спуск (без intercept)."
   ]
  },
  {
   "cell_type": "code",
   "execution_count": 96,
   "id": "f4b07d19",
   "metadata": {},
   "outputs": [
    {
     "data": {
      "text/plain": [
       "array([ 35,  45, 190, 200,  40,  70,  54, 150, 120, 110])"
      ]
     },
     "execution_count": 96,
     "metadata": {},
     "output_type": "execute_result"
    }
   ],
   "source": [
    "zp = np.array([35, 45, 190, 200, 40, 70, 54, 150, 120, 110])\n",
    "X = zp\n",
    "X"
   ]
  },
  {
   "cell_type": "code",
   "execution_count": 97,
   "id": "4ad6c09b",
   "metadata": {},
   "outputs": [
    {
     "data": {
      "text/plain": [
       "array([401, 574, 874, 919, 459, 739, 653, 902, 746, 832])"
      ]
     },
     "execution_count": 97,
     "metadata": {},
     "output_type": "execute_result"
    }
   ],
   "source": [
    "ks = np.array([401, 574, 874, 919, 459, 739, 653, 902, 746, 832])\n",
    "y = ks\n",
    "y"
   ]
  },
  {
   "cell_type": "code",
   "execution_count": 98,
   "id": "3b59683b",
   "metadata": {},
   "outputs": [],
   "source": [
    "def mse_(B1, y, X):\n",
    "    return np.sum((B1*X-y)**2) / y.size"
   ]
  },
  {
   "cell_type": "code",
   "execution_count": 99,
   "id": "9de09a59",
   "metadata": {},
   "outputs": [
    {
     "name": "stdout",
     "output_type": "stream",
     "text": [
      "iteration: 0 B1: 0.172007868 MSE: 506920.482577097\n",
      "iteration: 1000 B1: 5.8898204201284905 MSE: 56516.85841571943\n",
      "iteration: 2000 B1: 5.889820420132673 MSE: 56516.85841571943\n",
      "iteration: 3000 B1: 5.889820420132673 MSE: 56516.85841571943\n",
      "iteration: 4000 B1: 5.889820420132673 MSE: 56516.85841571943\n"
     ]
    }
   ],
   "source": [
    "B1 = 0.01\n",
    "alpha = 1e-6\n",
    "n = X.size\n",
    "n\n",
    "\n",
    "for i in range(5000):\n",
    "    B1 -= alpha*(2/n)*np.sum((B1*X-y)*X)\n",
    "    if i%1000 == 0:\n",
    "        print(f'iteration: {i} B1: {B1} MSE: {mse_(B1, y, X)}')"
   ]
  },
  {
   "cell_type": "markdown",
   "id": "141930e9",
   "metadata": {},
   "source": [
    "#### Задача 3"
   ]
  },
  {
   "cell_type": "markdown",
   "id": "cb14d5d3",
   "metadata": {},
   "source": [
    "Произвести вычисления как в пункте 2, но с вычислением intercept. Учесть, что изменение коэффициентов должно производиться"
   ]
  },
  {
   "cell_type": "code",
   "execution_count": 100,
   "id": "79435f79",
   "metadata": {},
   "outputs": [],
   "source": [
    "def mse_(B0, B1, y, X):\n",
    "    return np.sum((B0 + B1*X-y)**2) / y.size"
   ]
  },
  {
   "cell_type": "code",
   "execution_count": 102,
   "id": "f5ff0a0c",
   "metadata": {},
   "outputs": [
    {
     "name": "stdout",
     "output_type": "stream",
     "text": [
      "iteration: 0 B0: 0.1139932 B1: 1.6950496217904003 MSE: 298808.66922912706\n",
      "iteration: 100000 B0: 176.8199005170983 B1: 4.588397987371905 MSE: 24602.38444530712\n",
      "iteration: 200000 B0: 283.19812633817304 B1: 3.805411184788063 MSE: 13043.966032682154\n",
      "iteration: 300000 B0: 347.2497716180555 B1: 3.333965148244051 MSE: 8853.585092132746\n",
      "iteration: 400000 B0: 385.816059327739 B1: 3.05010165956241 MSE: 7334.4073119145005\n",
      "iteration: 500000 B0: 409.03729808290353 B1: 2.8791839426649335 MSE: 6783.645660253098\n",
      "iteration: 600000 B0: 423.01909309994124 B1: 2.776272271688333 MSE: 6583.972915633631\n",
      "iteration: 700000 B0: 431.4377047838163 B1: 2.714307881949033 MSE: 6511.583698222517\n",
      "iteration: 800000 B0: 436.506654986377 B1: 2.676998356612191 MSE: 6485.339761888725\n",
      "iteration: 900000 B0: 439.5587325878761 B1: 2.6545338300233094 MSE: 6475.825303535319\n",
      "iteration: 1000000 B0: 441.3964262548758 B1: 2.6410076607593775 MSE: 6472.375938447427\n",
      "iteration: 1100000 B0: 442.50292433738497 B1: 2.632863386975885 MSE: 6471.1254080370045\n",
      "iteration: 1200000 B0: 443.16916051623167 B1: 2.6279596190157175 MSE: 6470.672041615207\n",
      "iteration: 1300000 B0: 443.57030955844726 B1: 2.6250069996850263 MSE: 6470.50767846921\n",
      "iteration: 1400000 B0: 443.8118463575245 B1: 2.623229191072821 MSE: 6470.448090369029\n",
      "iteration: 1500000 B0: 443.9572786511766 B1: 2.622158750522415 MSE: 6470.426487340797\n",
      "iteration: 1600000 B0: 444.0448452336586 B1: 2.6215142250295194 MSE: 6470.41865539403\n",
      "iteration: 1700000 B0: 444.09757015585444 B1: 2.621126148259785 MSE: 6470.415816005514\n",
      "iteration: 1800000 B0: 444.12931648353236 B1: 2.62089248243757 MSE: 6470.414786615584\n",
      "iteration: 1900000 B0: 444.14843133999904 B1: 2.6207517893565266 MSE: 6470.41441342128\n",
      "iteration: 2000000 B0: 444.15994063146525 B1: 2.6206670763125217 MSE: 6470.414278123679\n",
      "iteration: 2100000 B0: 444.1668705181932 B1: 2.6206160695410743 MSE: 6470.414229072976\n",
      "iteration: 2200000 B0: 444.1710430886792 B1: 2.6205853577332947 MSE: 6470.41421129017\n",
      "iteration: 2300000 B0: 444.17355544497156 B1: 2.620566865774013 MSE: 6470.414204843202\n",
      "iteration: 2400000 B0: 444.1750681657634 B1: 2.620555731536655 MSE: 6470.414202505924\n",
      "iteration: 2500000 B0: 444.1759789936681 B1: 2.6205490274745853 MSE: 6470.414201658573\n",
      "iteration: 2600000 B0: 444.1765274144087 B1: 2.620544990875941 MSE: 6470.414201351375\n",
      "iteration: 2700000 B0: 444.17685762531426 B1: 2.6205425603900108 MSE: 6470.414201239995\n",
      "iteration: 2800000 B0: 444.1770564493861 B1: 2.6205410969643608 MSE: 6470.414201199621\n",
      "iteration: 2900000 B0: 444.17717616381617 B1: 2.6205402158176963 MSE: 6470.414201184984\n"
     ]
    }
   ],
   "source": [
    "B0 = 0.1\n",
    "B1 = 0.1\n",
    "alpha = 1e-5\n",
    "n = X.size\n",
    "n\n",
    "\n",
    "for i in range(3000000):\n",
    "    B0 -= alpha*(2/n)*np.sum((B0+B1*X-y))\n",
    "    B1 -= alpha*(2/n)*np.sum((B0+B1*X-y)*X)\n",
    "    if i%100000 == 0:\n",
    "        print(f'iteration: {i} B0: {B0} B1: {B1} MSE: {mse_(B0, B1, y, X)}')"
   ]
  }
 ],
 "metadata": {
  "kernelspec": {
   "display_name": "Python 3 (ipykernel)",
   "language": "python",
   "name": "python3"
  },
  "language_info": {
   "codemirror_mode": {
    "name": "ipython",
    "version": 3
   },
   "file_extension": ".py",
   "mimetype": "text/x-python",
   "name": "python",
   "nbconvert_exporter": "python",
   "pygments_lexer": "ipython3",
   "version": "3.9.12"
  }
 },
 "nbformat": 4,
 "nbformat_minor": 5
}
