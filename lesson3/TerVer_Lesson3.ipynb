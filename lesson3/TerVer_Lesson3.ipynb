{
 "cells": [
  {
   "cell_type": "code",
   "execution_count": 1,
   "id": "52791e2b",
   "metadata": {},
   "outputs": [],
   "source": [
    "import numpy as np\n",
    "import pandas as pd\n",
    "import matplotlib.pyplot as plt\n",
    "from math import factorial\n",
    "import warnings\n",
    "warnings.filterwarnings('ignore')\n",
    "\n",
    "# Сочетания из n по k\n",
    "def combinations(n, k):\n",
    "    return int(factorial(n) / (factorial(k) * factorial(n - k)))"
   ]
  },
  {
   "cell_type": "markdown",
   "id": "166f1f7a",
   "metadata": {},
   "source": [
    "#### Задача 1"
   ]
  },
  {
   "cell_type": "markdown",
   "id": "37eab1c5",
   "metadata": {},
   "source": [
    "Даны значения зарплат из выборки выпускников: 100, 80, 75, 77, 89, 33, 45, 25, 65, 17, 30, 24, 57, 55, 70, 75, 65, 84, 90, 150. Посчитать (желательно без использования статистических методов наподобие std, var, mean) среднее арифметическое, среднее квадратичное отклонение, смещенную и несмещенную оценки дисперсий для данной выборки."
   ]
  },
  {
   "cell_type": "markdown",
   "id": "5efe05df",
   "metadata": {},
   "source": [
    "Массив исходных данных:"
   ]
  },
  {
   "cell_type": "code",
   "execution_count": 2,
   "id": "c67c406d",
   "metadata": {},
   "outputs": [
    {
     "data": {
      "text/html": [
       "<div>\n",
       "<style scoped>\n",
       "    .dataframe tbody tr th:only-of-type {\n",
       "        vertical-align: middle;\n",
       "    }\n",
       "\n",
       "    .dataframe tbody tr th {\n",
       "        vertical-align: top;\n",
       "    }\n",
       "\n",
       "    .dataframe thead th {\n",
       "        text-align: right;\n",
       "    }\n",
       "</style>\n",
       "<table border=\"1\" class=\"dataframe\">\n",
       "  <thead>\n",
       "    <tr style=\"text-align: right;\">\n",
       "      <th></th>\n",
       "      <th>data</th>\n",
       "    </tr>\n",
       "  </thead>\n",
       "  <tbody>\n",
       "    <tr>\n",
       "      <th>0</th>\n",
       "      <td>100</td>\n",
       "    </tr>\n",
       "    <tr>\n",
       "      <th>1</th>\n",
       "      <td>80</td>\n",
       "    </tr>\n",
       "    <tr>\n",
       "      <th>2</th>\n",
       "      <td>75</td>\n",
       "    </tr>\n",
       "    <tr>\n",
       "      <th>3</th>\n",
       "      <td>77</td>\n",
       "    </tr>\n",
       "    <tr>\n",
       "      <th>4</th>\n",
       "      <td>89</td>\n",
       "    </tr>\n",
       "    <tr>\n",
       "      <th>5</th>\n",
       "      <td>33</td>\n",
       "    </tr>\n",
       "    <tr>\n",
       "      <th>6</th>\n",
       "      <td>45</td>\n",
       "    </tr>\n",
       "    <tr>\n",
       "      <th>7</th>\n",
       "      <td>25</td>\n",
       "    </tr>\n",
       "    <tr>\n",
       "      <th>8</th>\n",
       "      <td>65</td>\n",
       "    </tr>\n",
       "    <tr>\n",
       "      <th>9</th>\n",
       "      <td>17</td>\n",
       "    </tr>\n",
       "    <tr>\n",
       "      <th>10</th>\n",
       "      <td>30</td>\n",
       "    </tr>\n",
       "    <tr>\n",
       "      <th>11</th>\n",
       "      <td>24</td>\n",
       "    </tr>\n",
       "    <tr>\n",
       "      <th>12</th>\n",
       "      <td>57</td>\n",
       "    </tr>\n",
       "    <tr>\n",
       "      <th>13</th>\n",
       "      <td>55</td>\n",
       "    </tr>\n",
       "    <tr>\n",
       "      <th>14</th>\n",
       "      <td>70</td>\n",
       "    </tr>\n",
       "    <tr>\n",
       "      <th>15</th>\n",
       "      <td>75</td>\n",
       "    </tr>\n",
       "    <tr>\n",
       "      <th>16</th>\n",
       "      <td>65</td>\n",
       "    </tr>\n",
       "    <tr>\n",
       "      <th>17</th>\n",
       "      <td>84</td>\n",
       "    </tr>\n",
       "    <tr>\n",
       "      <th>18</th>\n",
       "      <td>90</td>\n",
       "    </tr>\n",
       "    <tr>\n",
       "      <th>19</th>\n",
       "      <td>150</td>\n",
       "    </tr>\n",
       "  </tbody>\n",
       "</table>\n",
       "</div>"
      ],
      "text/plain": [
       "    data\n",
       "0    100\n",
       "1     80\n",
       "2     75\n",
       "3     77\n",
       "4     89\n",
       "5     33\n",
       "6     45\n",
       "7     25\n",
       "8     65\n",
       "9     17\n",
       "10    30\n",
       "11    24\n",
       "12    57\n",
       "13    55\n",
       "14    70\n",
       "15    75\n",
       "16    65\n",
       "17    84\n",
       "18    90\n",
       "19   150"
      ]
     },
     "execution_count": 2,
     "metadata": {},
     "output_type": "execute_result"
    }
   ],
   "source": [
    "df = pd.DataFrame([100, 80, 75, 77, 89, 33, 45, 25, 65, 17, 30, 24, 57, 55, 70, 75, 65, 84, 90, 150], columns=['data']);\n",
    "df"
   ]
  },
  {
   "cell_type": "code",
   "execution_count": 3,
   "id": "4a3d6dc6",
   "metadata": {},
   "outputs": [
    {
     "data": {
      "text/plain": [
       "(20, 1)"
      ]
     },
     "execution_count": 3,
     "metadata": {},
     "output_type": "execute_result"
    }
   ],
   "source": [
    "df.shape"
   ]
  },
  {
   "cell_type": "markdown",
   "id": "ec2dcff0",
   "metadata": {},
   "source": [
    "Среднее арифметическое:"
   ]
  },
  {
   "cell_type": "code",
   "execution_count": 4,
   "id": "6e513ef9",
   "metadata": {},
   "outputs": [
    {
     "data": {
      "text/plain": [
       "65.3"
      ]
     },
     "execution_count": 4,
     "metadata": {},
     "output_type": "execute_result"
    }
   ],
   "source": [
    "m = df['data'].sum() / df['data'].count()\n",
    "m"
   ]
  },
  {
   "cell_type": "markdown",
   "id": "7aff6222",
   "metadata": {},
   "source": [
    "Среднее квадратичное отклонение:"
   ]
  },
  {
   "cell_type": "code",
   "execution_count": 5,
   "id": "edc4f6f5",
   "metadata": {},
   "outputs": [
    {
     "data": {
      "text/plain": [
       "30.823854398825596"
      ]
     },
     "execution_count": 5,
     "metadata": {},
     "output_type": "execute_result"
    }
   ],
   "source": [
    "std = np.sqrt(((df['data'] - m)**2).sum() / df['data'].count())\n",
    "std"
   ]
  },
  {
   "cell_type": "markdown",
   "id": "61c52ba0",
   "metadata": {},
   "source": [
    "Смещенная оценка дисперсии:"
   ]
  },
  {
   "cell_type": "code",
   "execution_count": 6,
   "id": "de6403da",
   "metadata": {},
   "outputs": [
    {
     "data": {
      "text/plain": [
       "950.11"
      ]
     },
     "execution_count": 6,
     "metadata": {},
     "output_type": "execute_result"
    }
   ],
   "source": [
    "variance = ((df['data'] - m)**2).sum() / df['data'].count()\n",
    "variance"
   ]
  },
  {
   "cell_type": "markdown",
   "id": "db1658a5",
   "metadata": {},
   "source": [
    "Несмещенная оценка дисперсии:"
   ]
  },
  {
   "cell_type": "code",
   "execution_count": 7,
   "id": "741889d8",
   "metadata": {},
   "outputs": [
    {
     "data": {
      "text/plain": [
       "1000.1157894736842"
      ]
     },
     "execution_count": 7,
     "metadata": {},
     "output_type": "execute_result"
    }
   ],
   "source": [
    "variance = ((df['data'] - m)**2).sum() / (df['data'].count() - 1)\n",
    "variance"
   ]
  },
  {
   "cell_type": "markdown",
   "id": "6030e8a1",
   "metadata": {},
   "source": [
    "#### Задача 2"
   ]
  },
  {
   "cell_type": "markdown",
   "id": "9e500418",
   "metadata": {},
   "source": [
    "В первом ящике находится 8 мячей, из которых 5 - белые. Во втором ящике - 12 мячей, из которых 5 белых. Из первого ящика вытаскивают случайным образом два мяча, из второго - 4. Какова вероятность того, что 3 мяча белые?"
   ]
  },
  {
   "cell_type": "markdown",
   "id": "f795eac2",
   "metadata": {},
   "source": [
    "Ровно 3 белых мяча могут получится в следующих случаях:"
   ]
  },
  {
   "cell_type": "markdown",
   "id": "e9df9f60",
   "metadata": {},
   "source": [
    "1) Из первого ящика 0 белых и 2 черных, из второго 3 белых и 1 черный.<br>\n",
    "2) Из первого ящика 1 белый и 1 черный, из второго 2 белых и 2 черных.<br>\n",
    "3) Из первого ящика 2 белых и 0 черных, из второго 1 белый и 3 черных.<br>"
   ]
  },
  {
   "cell_type": "markdown",
   "id": "e4eb7c91",
   "metadata": {},
   "source": [
    "Вероятность из первого ящика 0 белых и 2 черных"
   ]
  },
  {
   "cell_type": "code",
   "execution_count": 8,
   "id": "6df17b9a",
   "metadata": {},
   "outputs": [
    {
     "data": {
      "text/plain": [
       "0.10714285714285714"
      ]
     },
     "execution_count": 8,
     "metadata": {},
     "output_type": "execute_result"
    }
   ],
   "source": [
    "A_0_2 = combinations(5, 0)*combinations(3, 2) / combinations(8, 2)\n",
    "A_0_2"
   ]
  },
  {
   "cell_type": "markdown",
   "id": "8bb80ca7",
   "metadata": {},
   "source": [
    "Вероятность из первого ящика 1 белый и 1 черный"
   ]
  },
  {
   "cell_type": "code",
   "execution_count": 9,
   "id": "c0c37f15",
   "metadata": {},
   "outputs": [
    {
     "data": {
      "text/plain": [
       "0.5357142857142857"
      ]
     },
     "execution_count": 9,
     "metadata": {},
     "output_type": "execute_result"
    }
   ],
   "source": [
    "A_1_1 = combinations(5, 1)*combinations(3, 1) / combinations(8, 2)\n",
    "A_1_1"
   ]
  },
  {
   "cell_type": "markdown",
   "id": "f5361b19",
   "metadata": {},
   "source": [
    "Вероятность из первого ящика 2 белых и 0 черных"
   ]
  },
  {
   "cell_type": "code",
   "execution_count": 10,
   "id": "4c11dca9",
   "metadata": {},
   "outputs": [
    {
     "data": {
      "text/plain": [
       "0.35714285714285715"
      ]
     },
     "execution_count": 10,
     "metadata": {},
     "output_type": "execute_result"
    }
   ],
   "source": [
    "A_2_0 = combinations(5, 2)*combinations(3, 0) / combinations(8, 2)\n",
    "A_2_0"
   ]
  },
  {
   "cell_type": "markdown",
   "id": "d1fc9fe2",
   "metadata": {},
   "source": [
    "Вероятность из второго 3 белых и 1 черный"
   ]
  },
  {
   "cell_type": "code",
   "execution_count": 11,
   "id": "dcfd815f",
   "metadata": {},
   "outputs": [
    {
     "data": {
      "text/plain": [
       "0.1414141414141414"
      ]
     },
     "execution_count": 11,
     "metadata": {},
     "output_type": "execute_result"
    }
   ],
   "source": [
    "B_3_1 = combinations(5, 3)*combinations(7, 1) / combinations(12, 4)\n",
    "B_3_1"
   ]
  },
  {
   "cell_type": "markdown",
   "id": "ef7dfbd1",
   "metadata": {},
   "source": [
    "Вероятность из второго 2 белых и 2 черных"
   ]
  },
  {
   "cell_type": "code",
   "execution_count": 12,
   "id": "e02bcda2",
   "metadata": {},
   "outputs": [
    {
     "data": {
      "text/plain": [
       "0.42424242424242425"
      ]
     },
     "execution_count": 12,
     "metadata": {},
     "output_type": "execute_result"
    }
   ],
   "source": [
    "B_2_2 = combinations(5, 2)*combinations(7, 2) / combinations(12, 4)\n",
    "B_2_2"
   ]
  },
  {
   "cell_type": "markdown",
   "id": "2fbd8846",
   "metadata": {},
   "source": [
    "Вероятность из второго 1 белый и 3 черных"
   ]
  },
  {
   "cell_type": "code",
   "execution_count": 13,
   "id": "2bc14f99",
   "metadata": {},
   "outputs": [
    {
     "data": {
      "text/plain": [
       "0.35353535353535354"
      ]
     },
     "execution_count": 13,
     "metadata": {},
     "output_type": "execute_result"
    }
   ],
   "source": [
    "B_1_3 = combinations(5, 1)*combinations(7, 3) / combinations(12, 4)\n",
    "B_1_3"
   ]
  },
  {
   "cell_type": "markdown",
   "id": "0cdbd0ff",
   "metadata": {},
   "source": [
    "Вероятность первого случая равна"
   ]
  },
  {
   "cell_type": "code",
   "execution_count": 14,
   "id": "168baf2e",
   "metadata": {},
   "outputs": [
    {
     "data": {
      "text/plain": [
       "0.01515151515151515"
      ]
     },
     "execution_count": 14,
     "metadata": {},
     "output_type": "execute_result"
    }
   ],
   "source": [
    "A_0_2 * B_3_1\n"
   ]
  },
  {
   "cell_type": "raw",
   "id": "9813ce98",
   "metadata": {},
   "source": [
    "Вероятность второго случая равна"
   ]
  },
  {
   "cell_type": "code",
   "execution_count": 15,
   "id": "9f23119e",
   "metadata": {},
   "outputs": [
    {
     "data": {
      "text/plain": [
       "0.22727272727272727"
      ]
     },
     "execution_count": 15,
     "metadata": {},
     "output_type": "execute_result"
    }
   ],
   "source": [
    "A_1_1 * B_2_2"
   ]
  },
  {
   "cell_type": "markdown",
   "id": "95a95b64",
   "metadata": {},
   "source": [
    "Вероятность третьего случая равна"
   ]
  },
  {
   "cell_type": "code",
   "execution_count": 16,
   "id": "1a9fa92d",
   "metadata": {},
   "outputs": [
    {
     "data": {
      "text/plain": [
       "0.12626262626262627"
      ]
     },
     "execution_count": 16,
     "metadata": {},
     "output_type": "execute_result"
    }
   ],
   "source": [
    "A_2_0 * B_1_3"
   ]
  },
  {
   "cell_type": "markdown",
   "id": "deaff90d",
   "metadata": {},
   "source": [
    "Вероятность вытащить ровно 3 белых мяча равна"
   ]
  },
  {
   "cell_type": "code",
   "execution_count": 17,
   "id": "9f7e5591",
   "metadata": {},
   "outputs": [
    {
     "data": {
      "text/plain": [
       "0.3686868686868687"
      ]
     },
     "execution_count": 17,
     "metadata": {},
     "output_type": "execute_result"
    }
   ],
   "source": [
    "p = A_0_2 * B_3_1 + A_1_1 * B_2_2 + A_2_0 * B_1_3\n",
    "p"
   ]
  },
  {
   "cell_type": "markdown",
   "id": "826b702e",
   "metadata": {},
   "source": [
    "#### Задача 3"
   ]
  },
  {
   "cell_type": "markdown",
   "id": "2464afe1",
   "metadata": {},
   "source": [
    "На соревновании по биатлону один из трех спортсменов стреляет и попадает в мишень. Вероятность попадания для первого спортсмена равна 0.9, для второго — 0.8, для третьего — 0.6. Найти вероятность того, что выстрел произведен: a). первым спортсменом б). вторым спортсменом в). третьим спортсменом."
   ]
  },
  {
   "cell_type": "markdown",
   "id": "299131f9",
   "metadata": {},
   "source": [
    "Обозначим за A событие попадания в мишень. Каждый из трех стрелков может произвести выстрел с равной вероятностью. Поэтому по формуле полной вероятности имеем"
   ]
  },
  {
   "cell_type": "code",
   "execution_count": 18,
   "id": "829a4c46",
   "metadata": {},
   "outputs": [
    {
     "data": {
      "text/plain": [
       "0.7666666666666666"
      ]
     },
     "execution_count": 18,
     "metadata": {},
     "output_type": "execute_result"
    }
   ],
   "source": [
    "A = 1/3 * 0.9 + 1/3 * 0.8 + 1/3 * 0.6\n",
    "A"
   ]
  },
  {
   "cell_type": "markdown",
   "id": "8b869018",
   "metadata": {},
   "source": [
    "Вероятность того, что успешный выстрел произведен первым спортсменом по формуле Байеса"
   ]
  },
  {
   "cell_type": "code",
   "execution_count": 19,
   "id": "54a84b84",
   "metadata": {},
   "outputs": [
    {
     "data": {
      "text/plain": [
       "0.391304347826087"
      ]
     },
     "execution_count": 19,
     "metadata": {},
     "output_type": "execute_result"
    }
   ],
   "source": [
    "p1 = (1/3 * 0.9) / A\n",
    "p1"
   ]
  },
  {
   "cell_type": "markdown",
   "id": "87eda4f7",
   "metadata": {},
   "source": [
    "Вероятность того, что успешный выстрел произведен вторым спортсменом по формуле Байеса"
   ]
  },
  {
   "cell_type": "code",
   "execution_count": 20,
   "id": "cdab2cdf",
   "metadata": {},
   "outputs": [
    {
     "data": {
      "text/plain": [
       "0.3478260869565218"
      ]
     },
     "execution_count": 20,
     "metadata": {},
     "output_type": "execute_result"
    }
   ],
   "source": [
    "p2 = (1/3 * 0.8) / A\n",
    "p2"
   ]
  },
  {
   "cell_type": "markdown",
   "id": "44431890",
   "metadata": {},
   "source": [
    "Вероятность того, что успешный выстрел произведен третьим спортсменом по формуле Байеса"
   ]
  },
  {
   "cell_type": "code",
   "execution_count": 21,
   "id": "4681c794",
   "metadata": {},
   "outputs": [
    {
     "data": {
      "text/plain": [
       "0.2608695652173913"
      ]
     },
     "execution_count": 21,
     "metadata": {},
     "output_type": "execute_result"
    }
   ],
   "source": [
    "p2 = 1/3 * 0.6 / A\n",
    "p2"
   ]
  },
  {
   "cell_type": "markdown",
   "id": "0a162045",
   "metadata": {},
   "source": [
    "#### Задача 4"
   ]
  },
  {
   "cell_type": "markdown",
   "id": "d1787c83",
   "metadata": {},
   "source": [
    "В университет на факультеты A и B поступило равное количество студентов, а на факультет C студентов поступило столько же, сколько на A и B вместе. Вероятность того, что студент факультета A сдаст первую сессию, равна 0.8. Для студента факультета B эта вероятность равна 0.7, а для студента факультета C - 0.9. Студент сдал первую сессию. Какова вероятность, что он учится: a). на факультете A б). на факультете B в). на факультете C?"
   ]
  },
  {
   "cell_type": "markdown",
   "id": "50084b77",
   "metadata": {},
   "source": [
    "Вероятности того, что студент учится на факультетах A, B и C соответственно равны\n"
   ]
  },
  {
   "cell_type": "code",
   "execution_count": 22,
   "id": "1449e65f",
   "metadata": {},
   "outputs": [],
   "source": [
    "pA = 0.25\n",
    "pB = 0.25\n",
    "pC = 0.5"
   ]
  },
  {
   "cell_type": "markdown",
   "id": "490b5e32",
   "metadata": {},
   "source": [
    "Пусть D - событие, что студент сдал сессию. По формуле полной вероятности"
   ]
  },
  {
   "cell_type": "code",
   "execution_count": 23,
   "id": "f67a923d",
   "metadata": {},
   "outputs": [
    {
     "data": {
      "text/plain": [
       "0.825"
      ]
     },
     "execution_count": 23,
     "metadata": {},
     "output_type": "execute_result"
    }
   ],
   "source": [
    "D = 0.25 * 0.8 + 0.25 * 0.7 + 0.5 * 0.9\n",
    "D"
   ]
  },
  {
   "cell_type": "markdown",
   "id": "c6c2c2d5",
   "metadata": {},
   "source": [
    "Вероятность того, что студент учится на факультете A"
   ]
  },
  {
   "cell_type": "code",
   "execution_count": 24,
   "id": "96e91872",
   "metadata": {},
   "outputs": [
    {
     "data": {
      "text/plain": [
       "0.24242424242424246"
      ]
     },
     "execution_count": 24,
     "metadata": {},
     "output_type": "execute_result"
    }
   ],
   "source": [
    "Da = (0.25 * 0.8) / D\n",
    "Da"
   ]
  },
  {
   "cell_type": "markdown",
   "id": "5466e812",
   "metadata": {},
   "source": [
    "Вероятность того, что студент учится на факультете B\n"
   ]
  },
  {
   "cell_type": "code",
   "execution_count": 25,
   "id": "783fee60",
   "metadata": {},
   "outputs": [
    {
     "data": {
      "text/plain": [
       "0.21212121212121213"
      ]
     },
     "execution_count": 25,
     "metadata": {},
     "output_type": "execute_result"
    }
   ],
   "source": [
    "Db = (0.25 * 0.7) / D\n",
    "Db"
   ]
  },
  {
   "cell_type": "markdown",
   "id": "a30ffee2",
   "metadata": {},
   "source": [
    "Вероятность того, что студент учится на факультете C"
   ]
  },
  {
   "cell_type": "code",
   "execution_count": 26,
   "id": "23b81e6b",
   "metadata": {},
   "outputs": [
    {
     "data": {
      "text/plain": [
       "0.5454545454545455"
      ]
     },
     "execution_count": 26,
     "metadata": {},
     "output_type": "execute_result"
    }
   ],
   "source": [
    "Dc = (0.5 * 0.9) / D\n",
    "Dc"
   ]
  },
  {
   "cell_type": "markdown",
   "id": "26f88300",
   "metadata": {},
   "source": [
    "#### Задача 5"
   ]
  },
  {
   "cell_type": "markdown",
   "id": "1679b96f",
   "metadata": {},
   "source": [
    "Устройство состоит из трех деталей. Для первой детали вероятность выйти из строя в первый месяц равна 0.1, для второй - 0.2, для третьей - 0.25. Какова вероятность того, что в первый месяц выйдут из строя: а). все детали б). только две детали в). хотя бы одна деталь г). от одной до двух деталей?"
   ]
  },
  {
   "cell_type": "markdown",
   "id": "ee0187ae",
   "metadata": {},
   "source": [
    "а). все детали"
   ]
  },
  {
   "cell_type": "markdown",
   "id": "54e48a91",
   "metadata": {},
   "source": [
    "Так как из строя должны выйти все три детали одновременно, по теореме умножения вероятностей имеем"
   ]
  },
  {
   "cell_type": "code",
   "execution_count": 27,
   "id": "4f67e411",
   "metadata": {},
   "outputs": [
    {
     "data": {
      "text/plain": [
       "0.005000000000000001"
      ]
     },
     "execution_count": 27,
     "metadata": {},
     "output_type": "execute_result"
    }
   ],
   "source": [
    "p = 0.1 * 0.2 * 0.25\n",
    "p"
   ]
  },
  {
   "cell_type": "markdown",
   "id": "dccb7b03",
   "metadata": {},
   "source": [
    "б). только две детали"
   ]
  },
  {
   "cell_type": "markdown",
   "id": "1b2cbdb8",
   "metadata": {},
   "source": [
    "Пусть события A - вышло из строя ровно 2 детали. Это может произойти в следующих случаях:<br>\n",
    "Вышла из строя первая и вторая деталь<br>\n",
    "Вышла из строя первая и третья деталь<br>\n",
    "Вышла из строя вторая и третья деталь<br>\n",
    "Так как эти случаи события несовместные, то пользуясь формула сложения и умножения вероятностей событий имеем"
   ]
  },
  {
   "cell_type": "code",
   "execution_count": 28,
   "id": "a37724af",
   "metadata": {},
   "outputs": [
    {
     "data": {
      "text/plain": [
       "0.08000000000000002"
      ]
     },
     "execution_count": 28,
     "metadata": {},
     "output_type": "execute_result"
    }
   ],
   "source": [
    "p2 = 0.1 * 0.2 * 0.75 + 0.1 * 0.25 * 0.8 + 0.9 * 0.2 * 0.25\n",
    "p2"
   ]
  },
  {
   "cell_type": "markdown",
   "id": "79dcc280",
   "metadata": {},
   "source": [
    "в). хотя бы одна деталь"
   ]
  },
  {
   "cell_type": "markdown",
   "id": "d07887a2",
   "metadata": {},
   "source": [
    "Найдем вероятность события, что ни одна деталь не вышла из строя"
   ]
  },
  {
   "cell_type": "code",
   "execution_count": 29,
   "id": "bbbdb7e5",
   "metadata": {},
   "outputs": [
    {
     "data": {
      "text/plain": [
       "0.54"
      ]
     },
     "execution_count": 29,
     "metadata": {},
     "output_type": "execute_result"
    }
   ],
   "source": [
    "a = 0.9 * 0.8 * 0.75\n",
    "a"
   ]
  },
  {
   "cell_type": "markdown",
   "id": "e998885c",
   "metadata": {},
   "source": [
    "Тогда вероятность события, что хотя бы одна деталь вышла из строя"
   ]
  },
  {
   "cell_type": "code",
   "execution_count": 30,
   "id": "04f3e047",
   "metadata": {},
   "outputs": [
    {
     "data": {
      "text/plain": [
       "0.45999999999999996"
      ]
     },
     "execution_count": 30,
     "metadata": {},
     "output_type": "execute_result"
    }
   ],
   "source": [
    "p = 1 - a\n",
    "p"
   ]
  },
  {
   "cell_type": "markdown",
   "id": "d7378b07",
   "metadata": {},
   "source": [
    "г). от одной до двух деталей?"
   ]
  },
  {
   "cell_type": "markdown",
   "id": "15542d2c",
   "metadata": {},
   "source": [
    "Это вероятность суммы событий = вышла из строя одна деталь или вышла из строя две детали"
   ]
  },
  {
   "cell_type": "markdown",
   "id": "f751a8e7",
   "metadata": {},
   "source": [
    "Вероятность, что вышла из строя ровно 1 деталь."
   ]
  },
  {
   "cell_type": "code",
   "execution_count": 31,
   "id": "bfaffcb4",
   "metadata": {},
   "outputs": [
    {
     "data": {
      "text/plain": [
       "0.375"
      ]
     },
     "execution_count": 31,
     "metadata": {},
     "output_type": "execute_result"
    }
   ],
   "source": [
    "p1 = 0.1 * 0.8 * 0.75 + 0.9 * 0.2 * 0.75 + 0.9 * 0.8 * 0.25\n",
    "p1"
   ]
  },
  {
   "cell_type": "markdown",
   "id": "0d5a7bed",
   "metadata": {},
   "source": [
    "Вероятность того, что вышла из строя ровно 2 детали. Уже найдено выше\n"
   ]
  },
  {
   "cell_type": "code",
   "execution_count": 32,
   "id": "a9945e44",
   "metadata": {},
   "outputs": [
    {
     "data": {
      "text/plain": [
       "0.08000000000000002"
      ]
     },
     "execution_count": 32,
     "metadata": {},
     "output_type": "execute_result"
    }
   ],
   "source": [
    "p2"
   ]
  },
  {
   "cell_type": "markdown",
   "id": "96c16f0e",
   "metadata": {},
   "source": [
    "Вероятность того, что вышла из строя или одна деталь или 2 детали равна"
   ]
  },
  {
   "cell_type": "code",
   "execution_count": 33,
   "id": "59f5c626",
   "metadata": {},
   "outputs": [
    {
     "data": {
      "text/plain": [
       "0.455"
      ]
     },
     "execution_count": 33,
     "metadata": {},
     "output_type": "execute_result"
    }
   ],
   "source": [
    "p = p1 + p2\n",
    "p"
   ]
  },
  {
   "cell_type": "code",
   "execution_count": null,
   "id": "feb33209",
   "metadata": {},
   "outputs": [],
   "source": []
  }
 ],
 "metadata": {
  "kernelspec": {
   "display_name": "Python 3 (ipykernel)",
   "language": "python",
   "name": "python3"
  },
  "language_info": {
   "codemirror_mode": {
    "name": "ipython",
    "version": 3
   },
   "file_extension": ".py",
   "mimetype": "text/x-python",
   "name": "python",
   "nbconvert_exporter": "python",
   "pygments_lexer": "ipython3",
   "version": "3.9.12"
  }
 },
 "nbformat": 4,
 "nbformat_minor": 5
}
