{
 "cells": [
  {
   "cell_type": "code",
   "execution_count": 6,
   "id": "25b232cc",
   "metadata": {},
   "outputs": [],
   "source": [
    "import numpy as np\n",
    "from math import factorial"
   ]
  },
  {
   "cell_type": "code",
   "execution_count": 7,
   "id": "4308148a",
   "metadata": {},
   "outputs": [],
   "source": [
    "# Сочетания из n по k\n",
    "def combinations(n, k):\n",
    "    return int(factorial(n) / (factorial(k) * factorial(n - k)))"
   ]
  },
  {
   "cell_type": "code",
   "execution_count": 28,
   "id": "a77c696c",
   "metadata": {},
   "outputs": [],
   "source": [
    "# Бернулли\n",
    "def bernulli(p, n, k):\n",
    "    return combinations(n,k) * p**(k) * (1 - p)**(n - k)\n",
    "\n",
    "# Пуассон\n",
    "def puasson(l,m):\n",
    "    return l**m/factorial(m)*np.exp(-l)"
   ]
  },
  {
   "cell_type": "markdown",
   "id": "dab2898f",
   "metadata": {},
   "source": [
    "#### Задача 1"
   ]
  },
  {
   "cell_type": "markdown",
   "id": "ed3950ea",
   "metadata": {},
   "source": [
    "Вероятность того, что стрелок попадет в мишень, выстрелив один раз, равна 0.8. Стрелок выстрелил 100 раз. Найдите вероятность того, что стрелок попадет в цель ровно 85 раз."
   ]
  },
  {
   "cell_type": "markdown",
   "id": "ea9ef812",
   "metadata": {},
   "source": [
    "Воспользуемся формулой Бернулли  $$p(k=85) = C_n^kp^kq^{n-k} $$\n"
   ]
  },
  {
   "cell_type": "code",
   "execution_count": 15,
   "id": "bc343089",
   "metadata": {},
   "outputs": [
    {
     "data": {
      "text/plain": [
       "0.048061793700746355"
      ]
     },
     "execution_count": 15,
     "metadata": {},
     "output_type": "execute_result"
    }
   ],
   "source": [
    "p = bernulli(0.8, 100, 85)\n",
    "p"
   ]
  },
  {
   "cell_type": "markdown",
   "id": "414816a3",
   "metadata": {},
   "source": [
    "#### Задача 2"
   ]
  },
  {
   "cell_type": "markdown",
   "id": "60227d5c",
   "metadata": {},
   "source": [
    "Вероятность того, что лампочка перегорит в течение первого дня эксплуатации, равна 0.0004. В жилом комплексе после ремонта в один день включили 5000 новых лампочек. Какова вероятность, что ни одна из них не перегорит в первый день? Какова вероятность, что перегорят ровно две?"
   ]
  },
  {
   "cell_type": "markdown",
   "id": "569baa4a",
   "metadata": {},
   "source": [
    "Воспользуемся формулой Пуассона, так как здесь вероятность события очень маленькая, а количество испытаний большое."
   ]
  },
  {
   "cell_type": "markdown",
   "id": "e0316901",
   "metadata": {},
   "source": [
    "$$P_m \\approx \\frac{\\lambda^m}{m!}e^{-\\lambda}$$"
   ]
  },
  {
   "cell_type": "markdown",
   "id": "9e91f9b7",
   "metadata": {},
   "source": [
    "Средняя интенсивность потока, учитывая что мы знаем вероятность равна"
   ]
  },
  {
   "cell_type": "code",
   "execution_count": 21,
   "id": "fb987ae1",
   "metadata": {},
   "outputs": [],
   "source": [
    "p = 0.0004\n",
    "n = 5000"
   ]
  },
  {
   "cell_type": "code",
   "execution_count": 23,
   "id": "9d4677f0",
   "metadata": {},
   "outputs": [
    {
     "data": {
      "text/plain": [
       "2.0"
      ]
     },
     "execution_count": 23,
     "metadata": {},
     "output_type": "execute_result"
    }
   ],
   "source": [
    "lambd = n * p\n",
    "lambd"
   ]
  },
  {
   "cell_type": "markdown",
   "id": "67e0ef8b",
   "metadata": {},
   "source": [
    "Если ни одна лампочка не перегорит в первый день, то m = 0\n"
   ]
  },
  {
   "cell_type": "code",
   "execution_count": 25,
   "id": "cdc16ece",
   "metadata": {},
   "outputs": [],
   "source": [
    "m = 0"
   ]
  },
  {
   "cell_type": "code",
   "execution_count": 29,
   "id": "f7cb2c2f",
   "metadata": {},
   "outputs": [
    {
     "data": {
      "text/plain": [
       "0.1353352832366127"
      ]
     },
     "execution_count": 29,
     "metadata": {},
     "output_type": "execute_result"
    }
   ],
   "source": [
    "p_0 = puasson(lambd, m)\n",
    "p_0"
   ]
  },
  {
   "cell_type": "markdown",
   "id": "74fe0b13",
   "metadata": {},
   "source": [
    "Вероятность того, что перегорят ровно 2"
   ]
  },
  {
   "cell_type": "code",
   "execution_count": 30,
   "id": "caa029eb",
   "metadata": {},
   "outputs": [
    {
     "data": {
      "text/plain": [
       "0.2706705664732254"
      ]
     },
     "execution_count": 30,
     "metadata": {},
     "output_type": "execute_result"
    }
   ],
   "source": [
    "m = 2\n",
    "p_2 = puasson(lambd, m)\n",
    "p_2"
   ]
  },
  {
   "cell_type": "markdown",
   "id": "44200be4",
   "metadata": {},
   "source": [
    "#### Задача 3"
   ]
  },
  {
   "cell_type": "markdown",
   "id": "7df8a788",
   "metadata": {},
   "source": [
    "Монету подбросили 144 раза. Какова вероятность, что орел выпадет ровно 70 раз?"
   ]
  },
  {
   "cell_type": "markdown",
   "id": "a48ec4b9",
   "metadata": {},
   "source": [
    "Вероятность выпадения орла"
   ]
  },
  {
   "cell_type": "code",
   "execution_count": 32,
   "id": "d18dab63",
   "metadata": {},
   "outputs": [],
   "source": [
    "p = 0.5"
   ]
  },
  {
   "cell_type": "markdown",
   "id": "2ec8816a",
   "metadata": {},
   "source": [
    "Количество испытаний небольшое, вероятность большая. Воспользуемся формулой Бернулли."
   ]
  },
  {
   "cell_type": "code",
   "execution_count": 34,
   "id": "b447b0f3",
   "metadata": {},
   "outputs": [
    {
     "data": {
      "text/plain": [
       "0.06281178035144776"
      ]
     },
     "execution_count": 34,
     "metadata": {},
     "output_type": "execute_result"
    }
   ],
   "source": [
    "p_70 = bernulli(p, 144, 70)\n",
    "p_70"
   ]
  },
  {
   "cell_type": "markdown",
   "id": "19d7d129",
   "metadata": {},
   "source": [
    "#### Задача 4"
   ]
  },
  {
   "cell_type": "markdown",
   "id": "f1e13b7c",
   "metadata": {},
   "source": [
    "В первом ящике находится 10 мячей, из которых 7 - белые. Во втором ящике - 11 мячей, из которых 9 белых. Из каждого ящика вытаскивают случайным образом по два мяча. Какова вероятность того, что все мячи белые? Какова вероятность того, что ровно два мяча белые? Какова вероятность того, что хотя бы один мяч белый?"
   ]
  },
  {
   "cell_type": "markdown",
   "id": "96a15841",
   "metadata": {},
   "source": [
    "##### Какова вероятность того, что все мячи белые?"
   ]
  },
  {
   "cell_type": "markdown",
   "id": "8e66d78b",
   "metadata": {},
   "source": [
    "Вероятность вытащить из первого ящика первый белый мяч = 7/10, вероятность вытащить второй белый мяч = 6/9, а вероятность вытащить 2 белых мяча будет равна 7/10 * 6/9\n"
   ]
  },
  {
   "cell_type": "markdown",
   "id": "e7bf9eb4",
   "metadata": {},
   "source": [
    "Вероятность вытащить из второго ящика первый белый мяч = 9/11, вероятность вытащить второй = 8/10, а вероятность вытащить 2 белых мяча равна 9/11 * 8/10"
   ]
  },
  {
   "cell_type": "markdown",
   "id": "3a8cb718",
   "metadata": {},
   "source": [
    "По формуле произведения вероятностей вероятность того, что все мячи белые"
   ]
  },
  {
   "cell_type": "code",
   "execution_count": 39,
   "id": "0cf99bef",
   "metadata": {},
   "outputs": [
    {
     "data": {
      "text/plain": [
       "0.3054545454545454"
      ]
     },
     "execution_count": 39,
     "metadata": {},
     "output_type": "execute_result"
    }
   ],
   "source": [
    "p = 7/10 * 6/9 * 9/11 * 8/10\n",
    "p"
   ]
  },
  {
   "cell_type": "markdown",
   "id": "2847a809",
   "metadata": {},
   "source": [
    "##### Какова вероятность того, что ровно два мяча белые?"
   ]
  },
  {
   "cell_type": "markdown",
   "id": "df6485ae",
   "metadata": {},
   "source": [
    "Получить ровно 2 белых мяча можно следующим образом.\n",
    "Из первого ящика вытащить 0 белых 2 черных, из второго 2 белых 0 черных\n",
    "Из первого ящика вытащить 1 белый и 1 черный, из второго 1 белый и 1 черный\n",
    "Из первого ящика вытащить 2 белых 0 черных, из второго 0 белых 2 черных"
   ]
  },
  {
   "cell_type": "markdown",
   "id": "11b82bdc",
   "metadata": {},
   "source": [
    "Вероятность из первого ящика вытащить 0 белых мячей"
   ]
  },
  {
   "cell_type": "code",
   "execution_count": 47,
   "id": "5c1d427d",
   "metadata": {},
   "outputs": [
    {
     "data": {
      "text/plain": [
       "0.06666666666666667"
      ]
     },
     "execution_count": 47,
     "metadata": {},
     "output_type": "execute_result"
    }
   ],
   "source": [
    "A_0 = combinations(3, 2) / combinations(10, 2)\n",
    "A_0"
   ]
  },
  {
   "cell_type": "markdown",
   "id": "43c6ad32",
   "metadata": {},
   "source": [
    "Вероятность из перевого ящика вытащить 1 белый мяч и 1 черный"
   ]
  },
  {
   "cell_type": "code",
   "execution_count": 61,
   "id": "654c1c9b",
   "metadata": {},
   "outputs": [
    {
     "data": {
      "text/plain": [
       "0.4666666666666667"
      ]
     },
     "execution_count": 61,
     "metadata": {},
     "output_type": "execute_result"
    }
   ],
   "source": [
    "A_1 = combinations(7, 1) * combinations(3, 1) / combinations(10, 2)\n",
    "A_1"
   ]
  },
  {
   "cell_type": "markdown",
   "id": "95fc35da",
   "metadata": {},
   "source": [
    "Вероятность из первого ящика вытащить 2 белых мяча"
   ]
  },
  {
   "cell_type": "code",
   "execution_count": 50,
   "id": "703832c7",
   "metadata": {},
   "outputs": [
    {
     "data": {
      "text/plain": [
       "0.4666666666666667"
      ]
     },
     "execution_count": 50,
     "metadata": {},
     "output_type": "execute_result"
    }
   ],
   "source": [
    "A_2 = combinations(7, 2) / combinations(10, 2)\n",
    "A_2"
   ]
  },
  {
   "cell_type": "markdown",
   "id": "a8737d1d",
   "metadata": {},
   "source": [
    "Вероятность из второго ящика вытащить 0 белых мячей"
   ]
  },
  {
   "cell_type": "code",
   "execution_count": 52,
   "id": "d2168468",
   "metadata": {},
   "outputs": [
    {
     "data": {
      "text/plain": [
       "0.01818181818181818"
      ]
     },
     "execution_count": 52,
     "metadata": {},
     "output_type": "execute_result"
    }
   ],
   "source": [
    "B_0 = combinations(2, 2) / combinations(11, 2)\n",
    "B_0"
   ]
  },
  {
   "cell_type": "markdown",
   "id": "01dc2a12",
   "metadata": {},
   "source": [
    "Вероятность из второго ящика вытащить 1 белый мяч и 1 черный мяч"
   ]
  },
  {
   "cell_type": "code",
   "execution_count": 62,
   "id": "b5593cf9",
   "metadata": {},
   "outputs": [
    {
     "data": {
      "text/plain": [
       "0.32727272727272727"
      ]
     },
     "execution_count": 62,
     "metadata": {},
     "output_type": "execute_result"
    }
   ],
   "source": [
    "B_1 = combinations(9, 1) * combinations(2, 1)  / combinations(11, 2)\n",
    "B_1"
   ]
  },
  {
   "cell_type": "markdown",
   "id": "bc611f26",
   "metadata": {},
   "source": [
    "Вероятность из второго ящика вытащить 2 белых мяча"
   ]
  },
  {
   "cell_type": "code",
   "execution_count": 54,
   "id": "fa387f01",
   "metadata": {},
   "outputs": [
    {
     "data": {
      "text/plain": [
       "0.6545454545454545"
      ]
     },
     "execution_count": 54,
     "metadata": {},
     "output_type": "execute_result"
    }
   ],
   "source": [
    "B_2 = combinations(9, 2) / combinations(11, 2)\n",
    "B_2"
   ]
  },
  {
   "cell_type": "markdown",
   "id": "638d316b",
   "metadata": {},
   "source": [
    "Искомая вероятность"
   ]
  },
  {
   "cell_type": "code",
   "execution_count": 57,
   "id": "54a2385a",
   "metadata": {},
   "outputs": [
    {
     "data": {
      "text/plain": [
       "0.008484848484848484"
      ]
     },
     "execution_count": 57,
     "metadata": {},
     "output_type": "execute_result"
    }
   ],
   "source": [
    "A_2 * B_0"
   ]
  },
  {
   "cell_type": "code",
   "execution_count": 59,
   "id": "ff1a2617",
   "metadata": {},
   "outputs": [
    {
     "data": {
      "text/plain": [
       "0.04363636363636363"
      ]
     },
     "execution_count": 59,
     "metadata": {},
     "output_type": "execute_result"
    }
   ],
   "source": [
    "B_2 * A_0"
   ]
  },
  {
   "cell_type": "code",
   "execution_count": 63,
   "id": "b5dc2493",
   "metadata": {},
   "outputs": [
    {
     "data": {
      "text/plain": [
       "0.15272727272727274"
      ]
     },
     "execution_count": 63,
     "metadata": {},
     "output_type": "execute_result"
    }
   ],
   "source": [
    "A_1 * B_1"
   ]
  },
  {
   "cell_type": "code",
   "execution_count": 64,
   "id": "f84424aa",
   "metadata": {},
   "outputs": [
    {
     "data": {
      "text/plain": [
       "0.20484848484848486"
      ]
     },
     "execution_count": 64,
     "metadata": {},
     "output_type": "execute_result"
    }
   ],
   "source": [
    "p = A_2 * B_0 + A_1 * B_1 + B_2 * A_0\n",
    "p"
   ]
  },
  {
   "cell_type": "markdown",
   "id": "e4c5cbf5",
   "metadata": {},
   "source": [
    "##### Какова вероятность того, что хотя бы один мяч белый?"
   ]
  },
  {
   "cell_type": "markdown",
   "id": "75839c3d",
   "metadata": {},
   "source": [
    "Найдем вероятность вытащить все черные шары"
   ]
  },
  {
   "cell_type": "code",
   "execution_count": 67,
   "id": "d2a88502",
   "metadata": {},
   "outputs": [
    {
     "data": {
      "text/plain": [
       "0.0012121212121212121"
      ]
     },
     "execution_count": 67,
     "metadata": {},
     "output_type": "execute_result"
    }
   ],
   "source": [
    "p_1 = 3/10 * 2/9 * 2/11 * 1/10\n",
    "p_1"
   ]
  },
  {
   "cell_type": "markdown",
   "id": "dfce2194",
   "metadata": {},
   "source": [
    "Тогда вероятность получить хотя бы один белый шар будет обратной"
   ]
  },
  {
   "cell_type": "code",
   "execution_count": 68,
   "id": "a258b018",
   "metadata": {},
   "outputs": [
    {
     "data": {
      "text/plain": [
       "0.9987878787878788"
      ]
     },
     "execution_count": 68,
     "metadata": {},
     "output_type": "execute_result"
    }
   ],
   "source": [
    "p = 1 - p_1\n",
    "p"
   ]
  },
  {
   "cell_type": "code",
   "execution_count": null,
   "id": "2948c18c",
   "metadata": {},
   "outputs": [],
   "source": []
  }
 ],
 "metadata": {
  "kernelspec": {
   "display_name": "Python 3 (ipykernel)",
   "language": "python",
   "name": "python3"
  },
  "language_info": {
   "codemirror_mode": {
    "name": "ipython",
    "version": 3
   },
   "file_extension": ".py",
   "mimetype": "text/x-python",
   "name": "python",
   "nbconvert_exporter": "python",
   "pygments_lexer": "ipython3",
   "version": "3.9.12"
  }
 },
 "nbformat": 4,
 "nbformat_minor": 5
}
